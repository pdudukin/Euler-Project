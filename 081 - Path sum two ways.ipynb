{
 "cells": [
  {
   "cell_type": "code",
   "execution_count": 2,
   "metadata": {
    "collapsed": true
   },
   "outputs": [],
   "source": [
    "# In the 5 by 5 matrix below, the minimal path sum from the top left to the bottom right, \n",
    "# by only moving to the right and down, is indicated in bold red and is equal to 2427.\n",
    "\n",
    "# 131 673 234 103 18\n",
    "# 201 96  342 965 150\n",
    "# 630 803 746 422 111\n",
    "# 537 699 497 121 956\n",
    "# \n",
    "\n",
    "# Find the minimal path sum, in matrix.txt (right click and \"Save Link/Target As...\"), \n",
    "# a 31K text file containing a 80 by 80 matrix, from the top left to the bottom right \n",
    "# by only moving right and down."
   ]
  },
  {
   "cell_type": "code",
   "execution_count": 3,
   "metadata": {
    "collapsed": true
   },
   "outputs": [],
   "source": [
    "import numpy as np"
   ]
  },
  {
   "cell_type": "code",
   "execution_count": 26,
   "metadata": {
    "collapsed": true
   },
   "outputs": [],
   "source": [
    "A = np.array([[131,673,234,103,18],\n",
    "                    [201,96,324,965,150],\n",
    "                    [630,803,746,422,111],\n",
    "                    [537,699,497,121,956],\n",
    "                    [805,732,524,37,331]])"
   ]
  },
  {
   "cell_type": "code",
   "execution_count": 27,
   "metadata": {
    "collapsed": true
   },
   "outputs": [],
   "source": [
    "A[4][3] = A[4][3]+A[4][4] \n",
    "A[3][4] = A[3][4]+A[4][4]\n",
    "A[4][4] = 0\n",
    "\n",
    "A[4][2] = A[4][2]+A[4][3]\n",
    "A[2][4] = A[2][4]+A[3][4]\n",
    "A[3][3] = min(A[3][3]+A[3][4],A[3][3]+A[4][3])\n",
    "\n",
    "A[4][3] = 0\n",
    "A[3][4] = 0"
   ]
  },
  {
   "cell_type": "code",
   "execution_count": 28,
   "metadata": {},
   "outputs": [
    {
     "data": {
      "text/plain": [
       "array([[ 131,  673,  234,  103,   18],\n",
       "       [ 201,   96,  324,  965,  150],\n",
       "       [ 630,  803,  746,  422, 1398],\n",
       "       [ 537,  699,  497,  489,    0],\n",
       "       [ 805,  732,  892,    0,    0]])"
      ]
     },
     "execution_count": 28,
     "metadata": {},
     "output_type": "execute_result"
    }
   ],
   "source": [
    "A"
   ]
  },
  {
   "cell_type": "code",
   "execution_count": 18,
   "metadata": {
    "collapsed": true
   },
   "outputs": [],
   "source": [
    "dim = A.shape[0]\n",
    "for i in range(dim-1,0,-1):\n",
    "    for j in range(dim-1,0,-1):\n",
    "        A[i-1][j] = A[i-1][j] + A[i][j]\n",
    "        A[i][j-1] = A[i][j-1] + A[i][j]"
   ]
  },
  {
   "cell_type": "code",
   "execution_count": 19,
   "metadata": {},
   "outputs": [
    {
     "data": {
      "text/plain": [
       "array([[  131, 28507, 14174,  6212,  1566],\n",
       "       [28035, 27834, 13940,  6109,  1548],\n",
       "       [14428, 13798,  7507,  3596,  1398],\n",
       "       [ 6025,  5488,  3165,  1776,  1287],\n",
       "       [ 2429,  1624,   892,   368,   331]])"
      ]
     },
     "execution_count": 19,
     "metadata": {},
     "output_type": "execute_result"
    }
   ],
   "source": [
    "A"
   ]
  },
  {
   "cell_type": "code",
   "execution_count": null,
   "metadata": {
    "collapsed": true
   },
   "outputs": [],
   "source": []
  }
 ],
 "metadata": {
  "kernelspec": {
   "display_name": "Python 3",
   "language": "python",
   "name": "python3"
  },
  "language_info": {
   "codemirror_mode": {
    "name": "ipython",
    "version": 3
   },
   "file_extension": ".py",
   "mimetype": "text/x-python",
   "name": "python",
   "nbconvert_exporter": "python",
   "pygments_lexer": "ipython3",
   "version": "3.5.2"
  }
 },
 "nbformat": 4,
 "nbformat_minor": 2
}
