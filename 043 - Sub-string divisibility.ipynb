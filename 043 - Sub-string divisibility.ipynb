{
 "cells": [
  {
   "cell_type": "code",
   "execution_count": null,
   "metadata": {
    "collapsed": true
   },
   "outputs": [],
   "source": [
    "# The number, 1406357289, is a 0 to 9 pandigital number because it is made up of each of the digits 0 to 9 in some order, \n",
    "# but it also has a rather interesting sub-string divisibility property.\n",
    "\n",
    "# Let d1 be the 1st digit, d2 be the 2nd digit, and so on. In this way, we note the following:\n",
    "\n",
    "# d2d3d4=406 is divisible by 2\n",
    "# d3d4d5=063 is divisible by 3\n",
    "# d4d5d6=635 is divisible by 5\n",
    "# d5d6d7=357 is divisible by 7\n",
    "# d6d7d8=572 is divisible by 11\n",
    "# d7d8d9=728 is divisible by 13\n",
    "# d8d9d10=289 is divisible by 17\n",
    "\n",
    "# Find the sum of all 0 to 9 pandigital numbers with this property."
   ]
  },
  {
   "cell_type": "code",
   "execution_count": 24,
   "metadata": {},
   "outputs": [],
   "source": [
    "import numpy as np\n",
    "import itertools"
   ]
  },
  {
   "cell_type": "code",
   "execution_count": 25,
   "metadata": {},
   "outputs": [],
   "source": [
    "def CreateSeqList(number, len_seq):\n",
    "    seq_list = []\n",
    "    for pos in range(1,len(str(number))-len_seq+1):\n",
    "        seq_list.append(int(str(number)[pos:pos+len_seq]))\n",
    "    return seq_list"
   ]
  },
  {
   "cell_type": "code",
   "execution_count": 26,
   "metadata": {},
   "outputs": [
    {
     "data": {
      "text/plain": [
       "0"
      ]
     },
     "execution_count": 26,
     "metadata": {},
     "output_type": "execute_result"
    }
   ],
   "source": [
    "sum(np.mod(CreateSeqList(1406357289,3),[2,3,5,7,11,13,17]))"
   ]
  },
  {
   "cell_type": "code",
   "execution_count": 31,
   "metadata": {},
   "outputs": [
    {
     "data": {
      "text/plain": [
       "16695334890"
      ]
     },
     "execution_count": 31,
     "metadata": {},
     "output_type": "execute_result"
    }
   ],
   "source": [
    "divisors = [2,3,5,7,11,13,17]\n",
    "sm = 0\n",
    "\n",
    "for number in [int(''.join(x)) for x in list(itertools.permutations(str(1234567890))) if int(x[0]) != 0]:\n",
    "    if sum(np.mod(CreateSeqList(number,3),divisors)) == 0:\n",
    "        sm += number\n",
    "        \n",
    "sm"
   ]
  }
 ],
 "metadata": {
  "kernelspec": {
   "display_name": "Python 3",
   "language": "python",
   "name": "python3"
  },
  "language_info": {
   "codemirror_mode": {
    "name": "ipython",
    "version": 3
   },
   "file_extension": ".py",
   "mimetype": "text/x-python",
   "name": "python",
   "nbconvert_exporter": "python",
   "pygments_lexer": "ipython3",
   "version": "3.5.2"
  }
 },
 "nbformat": 4,
 "nbformat_minor": 2
}
