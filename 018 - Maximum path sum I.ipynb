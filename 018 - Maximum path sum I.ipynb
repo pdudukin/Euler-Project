{
 "cells": [
  {
   "cell_type": "code",
   "execution_count": 1,
   "metadata": {
    "collapsed": true
   },
   "outputs": [],
   "source": [
    "# By starting at the top of the triangle below and moving to adjacent numbers on the row below, \n",
    "# the maximum total from top to bottom is 23.\n",
    "\n",
    "# 3\n",
    "# 7 4\n",
    "# 2 4 6\n",
    "# 8 5 9 3\n",
    "\n",
    "# That is, 3 + 7 + 4 + 9 = 23.\n",
    "\n",
    "# Find the maximum total from top to bottom of the triangle below:\n",
    "\n",
    "# 75\n",
    "# 95 64\n",
    "# 17 47 82\n",
    "# 18 35 87 10\n",
    "# 20 04 82 47 65\n",
    "# 19 01 23 75 03 34\n",
    "# 88 02 77 73 07 63 67\n",
    "# 99 65 04 28 06 16 70 92\n",
    "# 41 41 26 56 83 40 80 70 33\n",
    "# 41 48 72 33 47 32 37 16 94 29\n",
    "# 53 71 44 65 25 43 91 52 97 51 14\n",
    "# 70 11 33 28 77 73 17 78 39 68 17 57\n",
    "# 91 71 52 38 17 14 91 43 58 50 27 29 48\n",
    "# 63 66 04 68 89 53 67 30 73 16 69 87 40 31\n",
    "# 04 62 98 27 23 09 70 98 73 93 38 53 60 04 23\n",
    "\n",
    "# NOTE: As there are only 16384 routes, it is possible to solve this problem by trying every route. \n",
    "# However, Problem 67, is the same challenge with a triangle containing one-hundred rows; \n",
    "# it cannot be solved by brute force, and requires a clever method! ;o)"
   ]
  },
  {
   "cell_type": "code",
   "execution_count": 88,
   "metadata": {},
   "outputs": [
    {
     "name": "stdout",
     "output_type": "stream",
     "text": [
      "Maximum path length:  1074\n"
     ]
    }
   ],
   "source": [
    "input = open(\"018_data.txt\")\n",
    "input_str = input.readlines()\n",
    "data = [list(map(int,x)) for x in[elt.split(' ') for elt in [lst[:-1] for lst in input_str]]]\n",
    "\n",
    "for row in range(len(data)-2,-1,-1):\n",
    "    new_row = []\n",
    "    for elt_curr, pos in zip(data[row], range(len(data[row])+1)):\n",
    "        #print(row,elt_curr, pos)\n",
    "        new_row.append(elt_curr+max(data[row+1][pos],data[row+1][pos+1]))\n",
    "        #print(row, new_row)\n",
    "        \n",
    "    data.pop(row+1)\n",
    "    data[row] = new_row\n",
    "        \n",
    "print(\"Maximum path length: \",data[0][0])"
   ]
  }
 ],
 "metadata": {
  "anaconda-cloud": {},
  "kernelspec": {
   "display_name": "Python [Root]",
   "language": "python",
   "name": "Python [Root]"
  },
  "language_info": {
   "codemirror_mode": {
    "name": "ipython",
    "version": 3
   },
   "file_extension": ".py",
   "mimetype": "text/x-python",
   "name": "python",
   "nbconvert_exporter": "python",
   "pygments_lexer": "ipython3",
   "version": "3.5.2"
  }
 },
 "nbformat": 4,
 "nbformat_minor": 2
}
