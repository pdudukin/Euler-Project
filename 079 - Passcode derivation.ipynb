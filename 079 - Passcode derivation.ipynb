{
 "cells": [
  {
   "cell_type": "code",
   "execution_count": 1,
   "metadata": {
    "collapsed": true
   },
   "outputs": [],
   "source": [
    "# A common security method used for online banking is to ask the user for three random characters from a passcode. \n",
    "# For example, if the passcode was 531278, they may ask for the 2nd, 3rd, and 5th characters; the expected reply would be: 317.\n",
    "\n",
    "# The text file, keylog.txt, contains fifty successful login attempts.\n",
    "\n",
    "# Given that the three characters are always asked for in order, analyse the file so as to determine \n",
    "# the shortest possible secret passcode of unknown length."
   ]
  },
  {
   "cell_type": "code",
   "execution_count": 119,
   "metadata": {
    "collapsed": true
   },
   "outputs": [],
   "source": [
    "file = open('p079_keylog.txt')\n",
    "data = file.readlines()"
   ]
  },
  {
   "cell_type": "code",
   "execution_count": 120,
   "metadata": {},
   "outputs": [
    {
     "data": {
      "text/plain": [
       "[[3, 1, 9], [6, 8, 0], [1, 8, 0], [6, 9, 0], [1, 2, 9]]"
      ]
     },
     "execution_count": 120,
     "metadata": {},
     "output_type": "execute_result"
    }
   ],
   "source": [
    "data = [[int(x[0]),int(x[1]),int(x[2])] for x in [x[:-1] for x in data]]\n",
    "data[:5]"
   ]
  },
  {
   "cell_type": "code",
   "execution_count": 173,
   "metadata": {},
   "outputs": [
    {
     "data": {
      "text/plain": [
       "73162890"
      ]
     },
     "execution_count": 173,
     "metadata": {},
     "output_type": "execute_result"
    }
   ],
   "source": [
    "lst = data #\n",
    "num = [x for x in list(set([x[0] for x in data])) if x not in list(set([x[1] for x in data])) and x not in list(set([x[2] for x in data]))][0]\n",
    "res = [num]\n",
    "#print(len(lst))\n",
    "\n",
    "while len(lst)>0:\n",
    "    lst_next_num = list(set([x for x in [snd_elt[1] for snd_elt in [x for x in data if x[0]==num]] \\\n",
    "             if x not in [trd_elt[2] for trd_elt in [x for x in data if x[0]==num]]]))\n",
    "    #print('lst_next',lst_next_num)\n",
    "    lst = [x for x in data if x[0]==lst_next_num[0]]\n",
    "    \n",
    "    if len(lst_next_num) == 1:\n",
    "        res.append(lst_next_num[0])\n",
    "    else:\n",
    "        for i in lst_next_num:\n",
    "            #print('lst',lst_next_num)\n",
    "            lst_temp = list([x for x in data if x[0]==i])\n",
    "            #print('lst_temp',lst_temp, len(lst_temp))\n",
    "            if len(lst_temp)>1:\n",
    "                #print('1:',lst_temp)\n",
    "                res.insert(len(res)-1,i)\n",
    "                #print('res',res)\n",
    "            else:\n",
    "                #print('2:',lst_temp)\n",
    "                res.insert(len(res),i)\n",
    "                #print('res',res)\n",
    "        #print(lst_next_num)\n",
    "    \n",
    "    num = lst_next_num[0]\n",
    "    \n",
    "    if len(lst) == 0:\n",
    "        #print('xxx:',res[-2],[x for x in data if x[0]==res[-2]])\n",
    "        res.append([x for x in data if x[0]==res[-2]][0][-1])\n",
    "        \n",
    "ans = 0\n",
    "for pos, i in enumerate(res):\n",
    "    #print(i,len(res)-pos)\n",
    "    ans += i*10**(len(res)-pos-1)\n",
    "    \n",
    "ans"
   ]
  },
  {
   "cell_type": "markdown",
   "metadata": {},
   "source": [
    "### Solution from EP Forum"
   ]
  },
  {
   "cell_type": "code",
   "execution_count": 185,
   "metadata": {},
   "outputs": [
    {
     "name": "stdout",
     "output_type": "stream",
     "text": [
      "73162890\n"
     ]
    }
   ],
   "source": [
    "from functools import reduce\n",
    "import random\n",
    "import ast\n",
    "\n",
    "keylog = list(set(\"\"\"\n",
    "319 680 180 690 129 620 762 689 762 318 368 710 720\n",
    "710 629 168 160 689 716 731 736 729 316 729 729 710 \n",
    "769 290 719 680 318 389 162 289 162 718 729 319 790 \n",
    "680 890 362 319 760 316 729 380 319 728 716\"\"\".split()))\n",
    "\n",
    "def shortest(seq):\n",
    "    m = min(len(s) for s in seq)\n",
    "    return list(set(s for s in seq if len(s) == m))\n",
    "\n",
    "def merge(a, b):\n",
    "    if a == '' or b == '':\n",
    "        return [a + b]\n",
    "    elif a[0] == b[0]:\n",
    "        return shortest([a[0]+s for s in merge(a[1:],b[1:])])\n",
    "    else:\n",
    "        return shortest([a[0]+s for s in merge(a[1:],b)] +\n",
    "                      [b[0]+s for s in merge(a,b[1:])])\n",
    "\n",
    "def merge1(a, b): \n",
    "    return random.choice(list(merge(a, b)))\n",
    "\n",
    "print((shortest([reduce(merge1, keylog) \n",
    "                for _ in range(100)])[0]))"
   ]
  },
  {
   "cell_type": "code",
   "execution_count": null,
   "metadata": {
    "collapsed": true
   },
   "outputs": [],
   "source": []
  }
 ],
 "metadata": {
  "anaconda-cloud": {},
  "kernelspec": {
   "display_name": "Python 3",
   "language": "python",
   "name": "python3"
  },
  "language_info": {
   "codemirror_mode": {
    "name": "ipython",
    "version": 3
   },
   "file_extension": ".py",
   "mimetype": "text/x-python",
   "name": "python",
   "nbconvert_exporter": "python",
   "pygments_lexer": "ipython3",
   "version": "3.5.2"
  }
 },
 "nbformat": 4,
 "nbformat_minor": 2
}
