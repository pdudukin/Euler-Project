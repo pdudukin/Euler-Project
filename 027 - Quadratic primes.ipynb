{
 "cells": [
  {
   "cell_type": "code",
   "execution_count": 1,
   "metadata": {
    "collapsed": true
   },
   "outputs": [],
   "source": [
    "# Euler discovered the remarkable quadratic formula:\n",
    "\n",
    "# n^2+n+41\n",
    "# It turns out that the formula will produce 40 primes for the consecutive integer values 0≤n≤39. \n",
    "# However, when n=40,40^2+40+41=40(40+1)+41n=40,40^2+40+41=40(40+1)+41 is divisible by 41, \n",
    "# and certainly when n=41, 41^2+41+41n=41, 41^2+41+41 is clearly divisible by 41.\n",
    "\n",
    "# The incredible formula n^2−79n+1601 was discovered, which produces 80 primes for the consecutive values 0≤n≤79. \n",
    "# The product of the coefficients, −79 and 1601, is −126479.\n",
    "\n",
    "# Considering quadratics of the form:\n",
    "\n",
    "# n^2+an+b, where |a|<1000 and |b|≤1000\n",
    "\n",
    "# where |n| is the modulus/absolute value of n\n",
    "# e.g. |11|=11 and |−4|=4\n",
    "# Find the product of the coefficients, a and b, for the quadratic expression that produces \n",
    "# the maximum number of primes for consecutive values of n, starting with n=0."
   ]
  },
  {
   "cell_type": "code",
   "execution_count": 9,
   "metadata": {
    "collapsed": true
   },
   "outputs": [],
   "source": [
    "import numpy as np\n",
    "\n",
    "import tqdm\n",
    "from tqdm import tqdm_notebook"
   ]
  },
  {
   "cell_type": "code",
   "execution_count": 10,
   "metadata": {
    "collapsed": true
   },
   "outputs": [],
   "source": [
    "def is_prime(n):\n",
    "    if n < 2:\n",
    "        return False\n",
    "    for i in range(2, 1 + int(np.sqrt(n))):\n",
    "        if n % i == 0:\n",
    "            return False\n",
    "    return True"
   ]
  },
  {
   "cell_type": "code",
   "execution_count": 11,
   "metadata": {
    "collapsed": true
   },
   "outputs": [],
   "source": [
    "def generator(n,a,b):\n",
    "    return n**2+a*n+b"
   ]
  },
  {
   "cell_type": "code",
   "execution_count": 12,
   "metadata": {
    "collapsed": true
   },
   "outputs": [],
   "source": [
    "def FindLenConsPrimesSeq(generator,a,b):\n",
    "    i = 0\n",
    "    for n in range(1000):\n",
    "        number = generator(n,a,b)\n",
    "        if is_prime(number):\n",
    "            i += 1\n",
    "            continue\n",
    "        else:\n",
    "            return i"
   ]
  },
  {
   "cell_type": "code",
   "execution_count": 13,
   "metadata": {},
   "outputs": [
    {
     "data": {
      "text/plain": [
       "80"
      ]
     },
     "execution_count": 13,
     "metadata": {},
     "output_type": "execute_result"
    }
   ],
   "source": [
    "FindLenConsPrimesSeq(generator, -79, 1601)"
   ]
  },
  {
   "cell_type": "code",
   "execution_count": 16,
   "metadata": {},
   "outputs": [
    {
     "data": {
      "application/vnd.jupyter.widget-view+json": {
       "model_id": "020a0857dd1a4266ab01916c778db215"
      }
     },
     "metadata": {},
     "output_type": "display_data"
    },
    {
     "name": "stdout",
     "output_type": "stream",
     "text": [
      "-1000 2 1\n",
      "-996 997 2\n",
      "-499 997 3\n",
      "-325 977 4\n",
      "-245 977 5\n",
      "-197 983 6\n",
      "-163 983 7\n",
      "-131 941 8\n",
      "-121 947 9\n",
      "-105 967 11\n",
      "-61 971 71\n",
      "\n",
      "--------------------------------------------------\n",
      "-59231\n"
     ]
    }
   ],
   "source": [
    "len_max = 0\n",
    "\n",
    "for a in tqdm.tqdm_notebook(range(-1000,1000+1), total=2000+1, desc=\"Searching\"):\n",
    "    for b in range(-1000,1001):\n",
    "        len_curr = FindLenConsPrimesSeq(generator,a,b)\n",
    "        if len_curr>len_max:\n",
    "            print(a,b,len_curr)\n",
    "            len_max = len_curr\n",
    "            a_out = a\n",
    "            b_out = b\n",
    "       \n",
    "print('-'*50)\n",
    "print(a_out*b_out)"
   ]
  }
 ],
 "metadata": {
  "kernelspec": {
   "display_name": "Python 3",
   "language": "python",
   "name": "python3"
  },
  "language_info": {
   "codemirror_mode": {
    "name": "ipython",
    "version": 3
   },
   "file_extension": ".py",
   "mimetype": "text/x-python",
   "name": "python",
   "nbconvert_exporter": "python",
   "pygments_lexer": "ipython3",
   "version": "3.5.2"
  }
 },
 "nbformat": 4,
 "nbformat_minor": 2
}
