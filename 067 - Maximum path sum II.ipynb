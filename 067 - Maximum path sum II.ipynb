{
 "cells": [
  {
   "cell_type": "code",
   "execution_count": 1,
   "metadata": {
    "collapsed": true
   },
   "outputs": [],
   "source": [
    "# By starting at the top of the triangle below and moving to adjacent numbers on the row below, the maximum total from top to bottom is 23.\n",
    "\n",
    "# 3\n",
    "# 7 4\n",
    "# 2 4 6\n",
    "# 8 5 9 3\n",
    "\n",
    "# That is, 3 + 7 + 4 + 9 = 23.\n",
    "\n",
    "# Find the maximum total from top to bottom in triangle.txt (right click and 'Save Link/Target As...'), \n",
    "# a 15K text file containing a triangle with one-hundred rows.\n",
    "\n",
    "# NOTE: This is a much more difficult version of Problem 18. It is not possible to try every route to solve this problem, \n",
    "# as there are 299 altogether! If you could check one trillion (1012) routes every second it would take over \n",
    "# twenty billion years to check them all. There is an efficient algorithm to solve it. ;o)"
   ]
  },
  {
   "cell_type": "code",
   "execution_count": 2,
   "metadata": {},
   "outputs": [
    {
     "name": "stdout",
     "output_type": "stream",
     "text": [
      "Maximum path length:  7273\n"
     ]
    }
   ],
   "source": [
    "input = open(\"p067_triangle.txt\")\n",
    "input_str = input.readlines()\n",
    "data = [list(map(int,x)) for x in[elt.split(' ') for elt in [lst[:-1] for lst in input_str]]]\n",
    "\n",
    "for row in range(len(data)-2,-1,-1):\n",
    "    new_row = []\n",
    "    for elt_curr, pos in zip(data[row], range(len(data[row])+1)):\n",
    "        #print(row,elt_curr, pos)\n",
    "        new_row.append(elt_curr+max(data[row+1][pos],data[row+1][pos+1]))\n",
    "        #print(row, new_row)\n",
    "        \n",
    "    data.pop(row+1)\n",
    "    data[row] = new_row\n",
    "        \n",
    "print(\"Maximum path length: \",data[0][0])"
   ]
  }
 ],
 "metadata": {
  "kernelspec": {
   "display_name": "Python [Root]",
   "language": "python",
   "name": "Python [Root]"
  },
  "language_info": {
   "codemirror_mode": {
    "name": "ipython",
    "version": 3
   },
   "file_extension": ".py",
   "mimetype": "text/x-python",
   "name": "python",
   "nbconvert_exporter": "python",
   "pygments_lexer": "ipython3",
   "version": "3.5.2"
  }
 },
 "nbformat": 4,
 "nbformat_minor": 2
}
