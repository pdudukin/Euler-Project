{
 "cells": [
  {
   "cell_type": "code",
   "execution_count": 1,
   "metadata": {
    "collapsed": true
   },
   "outputs": [],
   "source": [
    "#The sum of the squares of the first ten natural numbers is,\n",
    "\n",
    "#1^2 + 2^2 + ... + 10^2 = 385\n",
    "#The square of the sum of the first ten natural numbers is,\n",
    "\n",
    "#(1 + 2 + ... + 10)^2 = 55^2 = 3025\n",
    "#Hence the difference between the sum of the squares of the first ten natural numbers and the square of the sum is\n",
    "#3025 − 385 = 2640.\n",
    "\n",
    "#Find the difference between the sum of the squares of the first one hundred natural numbers and the square of the sum."
   ]
  },
  {
   "cell_type": "code",
   "execution_count": 4,
   "metadata": {
    "collapsed": true
   },
   "outputs": [],
   "source": [
    "import numpy as np"
   ]
  },
  {
   "cell_type": "code",
   "execution_count": 10,
   "metadata": {},
   "outputs": [
    {
     "data": {
      "text/plain": [
       "25164150"
      ]
     },
     "execution_count": 10,
     "metadata": {},
     "output_type": "execute_result"
    }
   ],
   "source": [
    "amount_of_numbers = 100\n",
    "np.power(sum([x for x in list(range(1,amount_of_numbers+1,1))]),2) - sum([x*x for x in list(range(1,amount_of_numbers+1,1))])"
   ]
  },
  {
   "cell_type": "code",
   "execution_count": null,
   "metadata": {
    "collapsed": true
   },
   "outputs": [],
   "source": []
  }
 ],
 "metadata": {
  "anaconda-cloud": {},
  "kernelspec": {
   "display_name": "Python [Root]",
   "language": "python",
   "name": "Python [Root]"
  },
  "language_info": {
   "codemirror_mode": {
    "name": "ipython",
    "version": 3
   },
   "file_extension": ".py",
   "mimetype": "text/x-python",
   "name": "python",
   "nbconvert_exporter": "python",
   "pygments_lexer": "ipython3",
   "version": "3.5.2"
  }
 },
 "nbformat": 4,
 "nbformat_minor": 2
}
