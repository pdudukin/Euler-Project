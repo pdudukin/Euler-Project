{
 "cells": [
  {
   "cell_type": "code",
   "execution_count": 1,
   "metadata": {
    "collapsed": true
   },
   "outputs": [],
   "source": [
    "# If the numbers 1 to 5 are written out in words: one, two, three, four, five, \n",
    "# then there are 3 + 3 + 5 + 4 + 4 = 19 letters used in total.\n",
    "\n",
    "# If all the numbers from 1 to 1000 (one thousand) inclusive were written out in words, how many letters would be used?\n",
    "\n",
    "\n",
    "# NOTE: Do not count spaces or hyphens. For example, \n",
    "# 342 (three hundred and forty-two) contains 23 letters and \n",
    "# 115 (one hundred and fifteen) contains 20 letters. \n",
    "# The use of \"and\" when writing out numbers is in compliance with British usage."
   ]
  },
  {
   "cell_type": "code",
   "execution_count": 40,
   "metadata": {},
   "outputs": [],
   "source": [
    "def CountLettersUnits(num):\n",
    "    if len(str(num)) == 1:\n",
    "        if num in (1, 2, 6):\n",
    "            return 3\n",
    "        elif num in (4, 5, 9):\n",
    "            return 4\n",
    "        elif num in (3, 7, 8):\n",
    "            return 5\n",
    "        else:\n",
    "            return 0\n",
    "    else: return 0"
   ]
  },
  {
   "cell_type": "code",
   "execution_count": 41,
   "metadata": {},
   "outputs": [
    {
     "data": {
      "text/plain": [
       "3"
      ]
     },
     "execution_count": 41,
     "metadata": {},
     "output_type": "execute_result"
    }
   ],
   "source": [
    "CountLettersUnits(1)"
   ]
  },
  {
   "cell_type": "code",
   "execution_count": 74,
   "metadata": {},
   "outputs": [],
   "source": [
    "def CountLettersDozens(num):   \n",
    "    str_num = str(num)\n",
    "    dozens = int(str_num[0])\n",
    "    units = int(str_num[1])\n",
    "    \n",
    "    if dozens == 1:\n",
    "        if num == 10:\n",
    "            return 3\n",
    "        elif num in (11, 12):\n",
    "            return 6\n",
    "        elif num in (15, 16):\n",
    "            return 7\n",
    "        elif num in (13, 14, 18, 19):\n",
    "            return 8\n",
    "        elif num == 17:\n",
    "            return 9\n",
    "    elif dozens in (2, 3, 8, 9):\n",
    "        return 6 + CountLettersUnits(units)\n",
    "    elif dozens in (4, 5, 6):\n",
    "        return 5 + CountLettersUnits(units)\n",
    "    elif dozens == 7:\n",
    "        return 7 + CountLettersUnits(units)"
   ]
  },
  {
   "cell_type": "code",
   "execution_count": 75,
   "metadata": {},
   "outputs": [
    {
     "data": {
      "text/plain": [
       "5"
      ]
     },
     "execution_count": 75,
     "metadata": {},
     "output_type": "execute_result"
    }
   ],
   "source": [
    "CountLettersDozens(60)"
   ]
  },
  {
   "cell_type": "code",
   "execution_count": 76,
   "metadata": {},
   "outputs": [],
   "source": [
    "def CountLettersHundreds(num):\n",
    "    str_num = str(num)\n",
    "    hundreds = int(str_num[0])\n",
    "    dozens = int(str_num[1])\n",
    "    units = int(str_num[2])\n",
    "    if dozens==0 and units!=0:\n",
    "        # CountLettersUnits + \"hundred\" + \"and\" + CountLettersUnits\n",
    "        return CountLettersUnits(hundreds) + 7 + 3 + CountLettersUnits(units)\n",
    "    elif dozens==0 and units==0:\n",
    "        return CountLettersUnits(hundreds) + 7 + CountLettersUnits(units)\n",
    "    elif dozens!=0:\n",
    "        # CountLettersUnits + \"hundred\" + \"and\" + CountLettersDozens\n",
    "        return CountLettersUnits(hundreds) + 7 + 3 + CountLettersDozens(int(str(dozens)+str(units)))"
   ]
  },
  {
   "cell_type": "code",
   "execution_count": 77,
   "metadata": {},
   "outputs": [
    {
     "data": {
      "text/plain": [
       "11"
      ]
     },
     "execution_count": 77,
     "metadata": {},
     "output_type": "execute_result"
    }
   ],
   "source": [
    "CountLettersHundreds(500)"
   ]
  },
  {
   "cell_type": "code",
   "execution_count": 78,
   "metadata": {},
   "outputs": [
    {
     "data": {
      "text/plain": [
       "21124"
      ]
     },
     "execution_count": 78,
     "metadata": {},
     "output_type": "execute_result"
    }
   ],
   "source": [
    "count = 11 # one thousand\n",
    "for num in range(1,1000):\n",
    "    str_num = str(num)\n",
    "    if len(str_num) == 1:\n",
    "        count += CountLettersUnits(num)\n",
    "    elif len(str_num) == 2:\n",
    "        count += CountLettersDozens(num)\n",
    "    elif len(str_num) == 3: \n",
    "        count += CountLettersHundreds(num)\n",
    "    #print(num,count)\n",
    "        \n",
    "count"
   ]
  },
  {
   "cell_type": "code",
   "execution_count": null,
   "metadata": {
    "collapsed": true
   },
   "outputs": [],
   "source": []
  }
 ],
 "metadata": {
  "kernelspec": {
   "display_name": "Python 3",
   "language": "python",
   "name": "python3"
  },
  "language_info": {
   "codemirror_mode": {
    "name": "ipython",
    "version": 3
   },
   "file_extension": ".py",
   "mimetype": "text/x-python",
   "name": "python",
   "nbconvert_exporter": "python",
   "pygments_lexer": "ipython3",
   "version": "3.5.2"
  }
 },
 "nbformat": 4,
 "nbformat_minor": 2
}
