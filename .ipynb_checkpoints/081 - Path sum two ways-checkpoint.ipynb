{
 "cells": [
  {
   "cell_type": "code",
   "execution_count": 2,
   "metadata": {
    "collapsed": true
   },
   "outputs": [],
   "source": [
    "# In the 5 by 5 matrix below, the minimal path sum from the top left to the bottom right, \n",
    "# by only moving to the right and down, is indicated in bold red and is equal to 2427.\n",
    "\n",
    "# 131 673 234 103 18\n",
    "# 201 96  342 965 150\n",
    "# 630 803 746 422 111\n",
    "# 537 699 497 121 956\n",
    "# \n",
    "\n",
    "# Find the minimal path sum, in matrix.txt (right click and \"Save Link/Target As...\"), \n",
    "# a 31K text file containing a 80 by 80 matrix, from the top left to the bottom right \n",
    "# by only moving right and down."
   ]
  },
  {
   "cell_type": "code",
   "execution_count": 3,
   "metadata": {
    "collapsed": true
   },
   "outputs": [],
   "source": [
    "import numpy as np"
   ]
  },
  {
   "cell_type": "code",
   "execution_count": 6,
   "metadata": {
    "collapsed": true
   },
   "outputs": [],
   "source": [
    "test_mtx = np.array([[131,673,234,103,18],\n",
    "                    [201,96,324,965,150],\n",
    "                    [630,803,746,422,111],\n",
    "                    [537,699,497,121,956],\n",
    "                    [805,732,524,37,331]])"
   ]
  },
  {
   "cell_type": "code",
   "execution_count": 8,
   "metadata": {},
   "outputs": [
    {
     "data": {
      "text/plain": [
       "array([[131, 201, 630, 537, 805],\n",
       "       [673,  96, 803, 699, 732],\n",
       "       [234, 324, 746, 497, 524],\n",
       "       [103, 965, 422, 121,  37],\n",
       "       [ 18, 150, 111, 956, 331]])"
      ]
     },
     "execution_count": 8,
     "metadata": {},
     "output_type": "execute_result"
    }
   ],
   "source": [
    "test_mtx.T"
   ]
  },
  {
   "cell_type": "code",
   "execution_count": null,
   "metadata": {
    "collapsed": true
   },
   "outputs": [],
   "source": []
  }
 ],
 "metadata": {
  "kernelspec": {
   "display_name": "Python 3",
   "language": "python",
   "name": "python3"
  },
  "language_info": {
   "codemirror_mode": {
    "name": "ipython",
    "version": 3
   },
   "file_extension": ".py",
   "mimetype": "text/x-python",
   "name": "python",
   "nbconvert_exporter": "python",
   "pygments_lexer": "ipython3",
   "version": "3.5.2"
  }
 },
 "nbformat": 4,
 "nbformat_minor": 2
}
