{
 "cells": [
  {
   "cell_type": "code",
   "execution_count": null,
   "metadata": {
    "collapsed": true
   },
   "outputs": [],
   "source": [
    "#Starting in the top left corner of a 2×2 grid, and only being able to move to the right and down, there are exactly 6 routes to the bottom right corner.\n",
    "\n",
    "#How many such routes are there through a 20×20 grid?"
   ]
  },
  {
   "cell_type": "code",
   "execution_count": 1,
   "metadata": {
    "collapsed": true
   },
   "outputs": [],
   "source": [
    "# (0,0) - (1,0) - (2,0) - (2,1) - (2,2) -- 0,(1,2,2),2 / 0,(0,0,1),2\n",
    "# (0,0) - (1,0) - (1,1) - (1,2) - (2,2) -- 0,(1,1,1),2 / 0,(0,1,2),2 \n",
    "# (0,0) - (1,0) - (1,1) - (2,1) - (2,2) -- 0,(1,1,2),2 / 0,(0,1,1),2\n",
    "# (0,0) - (0,1) - (0,2) - (1,2) - (2,2) -- 0,(0,0,1),2 / 0,(1,2,2),2\n",
    "# (0,0) - (0,1) - (1,1) - (1,2) - (2,2) -- 0,(0,1,1),2 / 0,(1,1,2),2\n",
    "# (0,0) - (0,1) - (1,1) - (2,1) - (2,2) -- 0,(0,1,2),2 / 0,(1,1,1),2"
   ]
  },
  {
   "cell_type": "code",
   "execution_count": null,
   "metadata": {
    "collapsed": true
   },
   "outputs": [],
   "source": [
    "# 0,0,0,1,2\n",
    "# 0,0,1,1,2\n",
    "# 0,0,1,2,2\n",
    "# 0,0,1,2,3\n",
    "# 0,1,1,1,2\n",
    "# 0,1,2,2,2\n",
    "# 0,1,2,2,3\n",
    "# 0,1,2,3,3\n",
    "# 1,1,1,1,2\n",
    "# 1,1,1,2,3\n",
    "# 1,1,2,2,3\n",
    "# 1,2,2,2,2\n",
    "# 1,2,2,2,3\n",
    "# 1,2,2,3,3\n",
    "# 1,2,3,3,3\n",
    "\n",
    "2*3*4*3*2/2 = 72"
   ]
  },
  {
   "cell_type": "code",
   "execution_count": null,
   "metadata": {
    "collapsed": true
   },
   "outputs": [],
   "source": [
    "# n = 2 - 2*2*(n+1)*(2*n+1-4)/2\n",
    "# n = 3 - 2*2*(n+1)*(2*n+1-4)/2\n",
    "# n = 20 - 2*2*(n+1)*(2*20+1-4)/2 = 2*21*37 = 42*37 = 40*37 + 74 = 1200 + 280 + 74 = 1200 + 354 = 1554"
   ]
  },
  {
   "cell_type": "code",
   "execution_count": null,
   "metadata": {
    "collapsed": true
   },
   "outputs": [],
   "source": [
    "# 0,0,0,0,1\n",
    "# 0,0,0,1,1\n",
    "# 0,0,0,1,2\n",
    "# 0,0,1,1,1\n",
    "# 0,0,1,1,2\n",
    "# 0,0,1,2,2\n",
    "# 0,1,1,1,1\n",
    "# 0,1,1,1,2\n",
    "# 0,1,1,2,2\n",
    "# 0,1,2,2,2\n",
    "# 1,1,1,1,1\n",
    "# 1,1,1,1,2\n",
    "# 1,1,1,2,2\n",
    "# 1,1,2,2,2\n",
    "# 1,2,2,2,2"
   ]
  },
  {
   "cell_type": "code",
   "execution_count": 13,
   "metadata": {},
   "outputs": [
    {
     "data": {
      "text/plain": [
       "1"
      ]
     },
     "execution_count": 13,
     "metadata": {},
     "output_type": "execute_result"
    }
   ],
   "source": [
    "import random\n",
    "random.randint(0,1)"
   ]
  },
  {
   "cell_type": "code",
   "execution_count": 4,
   "metadata": {},
   "outputs": [
    {
     "name": "stdout",
     "output_type": "stream",
     "text": [
      "0 [0, 0, 0, 0, 2]\n",
      "1 [0, 0, 0, 0, 2]\n",
      "2 [0, 0, 0, 0, 2]\n",
      "3 [0, 0, 0, 0, 2]\n",
      "4 [0, 0, 0, 0, 2]\n"
     ]
    }
   ],
   "source": [
    "n = 2\n",
    "\n",
    "for i in range((2*n+1)):\n",
    "    seq = [0]*(2*n+1)\n",
    "    seq[0] = 0\n",
    "    seq[2*n] = n\n",
    "    \n",
    "    for j in range(0, 2n-2, 1):\n",
    "        seq[1] = random.choice(1)\n",
    "    \n",
    "    print(i, seq)"
   ]
  },
  {
   "cell_type": "code",
   "execution_count": null,
   "metadata": {
    "collapsed": true
   },
   "outputs": [],
   "source": [
    "x = 2\n",
    "y = 2\n",
    "\n",
    "for i in range(x+1):\n",
    "    for j in range(y+1):\n",
    "        "
   ]
  }
 ],
 "metadata": {
  "kernelspec": {
   "display_name": "Python 3",
   "language": "python",
   "name": "python3"
  },
  "language_info": {
   "codemirror_mode": {
    "name": "ipython",
    "version": 3
   },
   "file_extension": ".py",
   "mimetype": "text/x-python",
   "name": "python",
   "nbconvert_exporter": "python",
   "pygments_lexer": "ipython3",
   "version": "3.5.2"
  }
 },
 "nbformat": 4,
 "nbformat_minor": 2
}
