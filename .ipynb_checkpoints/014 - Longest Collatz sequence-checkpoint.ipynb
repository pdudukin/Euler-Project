{
 "cells": [
  {
   "cell_type": "code",
   "execution_count": 1,
   "metadata": {
    "collapsed": true
   },
   "outputs": [],
   "source": [
    "# The following iterative sequence is defined for the set of positive integers:\n",
    "\n",
    "# n → n/2 (n is even)\n",
    "# n → 3n + 1 (n is odd)\n",
    "\n",
    "# Using the rule above and starting with 13, we generate the following sequence:\n",
    "\n",
    "# 13 → 40 → 20 → 10 → 5 → 16 → 8 → 4 → 2 → 1\n",
    "# It can be seen that this sequence (starting at 13 and finishing at 1) contains 10 terms. \n",
    "# WAlthough it has not been proved yet (Collatz Problem), it is thought that all starting numbers finish at 1.\n",
    "\n",
    "# Which starting number, under one million, produces the longest chain?\n",
    "\n",
    "# NOTE: Once the chain starts the terms are allowed to go above one million."
   ]
  },
  {
   "cell_type": "code",
   "execution_count": 9,
   "metadata": {
    "collapsed": true
   },
   "outputs": [],
   "source": [
    "def BuildSequence(start):\n",
    "    result = []\n",
    "    result.append(start)\n",
    "    \n",
    "    while start >1:\n",
    "        if start % 2 == 0:\n",
    "            start //= 2\n",
    "            result.append(start)\n",
    "        else:\n",
    "            start = 3*start + 1\n",
    "            result.append(start)\n",
    "    \n",
    "    return result"
   ]
  },
  {
   "cell_type": "code",
   "execution_count": 10,
   "metadata": {},
   "outputs": [
    {
     "data": {
      "text/plain": [
       "[13, 40, 20, 10, 5, 16, 8, 4, 2, 1]"
      ]
     },
     "execution_count": 10,
     "metadata": {},
     "output_type": "execute_result"
    }
   ],
   "source": [
    "BuildSequence(13)"
   ]
  },
  {
   "cell_type": "code",
   "execution_count": 12,
   "metadata": {},
   "outputs": [
    {
     "data": {
      "text/plain": [
       "837799"
      ]
     },
     "execution_count": 12,
     "metadata": {},
     "output_type": "execute_result"
    }
   ],
   "source": [
    "num = 1\n",
    "max_length = 1\n",
    "\n",
    "while num<1000000:\n",
    "    current_length = len(BuildSequence(num))\n",
    "    if current_length > max_length:\n",
    "        max_length = current_length\n",
    "        max_len_start = num\n",
    "        #print(max_len_start, max_length)\n",
    "    num +=1\n",
    "\n",
    "max_len_start"
   ]
  }
 ],
 "metadata": {
  "kernelspec": {
   "display_name": "Python 3",
   "language": "python",
   "name": "python3"
  },
  "language_info": {
   "codemirror_mode": {
    "name": "ipython",
    "version": 3
   },
   "file_extension": ".py",
   "mimetype": "text/x-python",
   "name": "python",
   "nbconvert_exporter": "python",
   "pygments_lexer": "ipython3",
   "version": "3.5.2"
  }
 },
 "nbformat": 4,
 "nbformat_minor": 2
}
