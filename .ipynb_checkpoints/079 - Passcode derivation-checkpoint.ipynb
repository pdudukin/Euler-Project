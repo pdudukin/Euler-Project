{
 "cells": [
  {
   "cell_type": "code",
   "execution_count": 1,
   "metadata": {
    "collapsed": true
   },
   "outputs": [],
   "source": [
    "# A common security method used for online banking is to ask the user for three random characters from a passcode. \n",
    "# For example, if the passcode was 531278, they may ask for the 2nd, 3rd, and 5th characters; the expected reply would be: 317.\n",
    "\n",
    "# The text file, keylog.txt, contains fifty successful login attempts.\n",
    "\n",
    "# Given that the three characters are always asked for in order, analyse the file so as to determine \n",
    "# the shortest possible secret passcode of unknown length."
   ]
  },
  {
   "cell_type": "code",
   "execution_count": 37,
   "metadata": {
    "collapsed": true
   },
   "outputs": [],
   "source": [
    "file = open('p079_keylog.txt')\n",
    "data = file.readlines()"
   ]
  },
  {
   "cell_type": "code",
   "execution_count": 38,
   "metadata": {},
   "outputs": [
    {
     "data": {
      "text/plain": [
       "[[3, 1, 9],\n",
       " [6, 8, 0],\n",
       " [1, 8, 0],\n",
       " [6, 9, 0],\n",
       " [1, 2, 9],\n",
       " [6, 2, 0],\n",
       " [7, 6, 2],\n",
       " [6, 8, 9],\n",
       " [7, 6, 2],\n",
       " [3, 1, 8],\n",
       " [3, 6, 8],\n",
       " [7, 1, 0],\n",
       " [7, 2, 0],\n",
       " [7, 1, 0],\n",
       " [6, 2, 9],\n",
       " [1, 6, 8],\n",
       " [1, 6, 0],\n",
       " [6, 8, 9],\n",
       " [7, 1, 6],\n",
       " [7, 3, 1],\n",
       " [7, 3, 6],\n",
       " [7, 2, 9],\n",
       " [3, 1, 6],\n",
       " [7, 2, 9],\n",
       " [7, 2, 9],\n",
       " [7, 1, 0],\n",
       " [7, 6, 9],\n",
       " [2, 9, 0],\n",
       " [7, 1, 9],\n",
       " [6, 8, 0],\n",
       " [3, 1, 8],\n",
       " [3, 8, 9],\n",
       " [1, 6, 2],\n",
       " [2, 8, 9],\n",
       " [1, 6, 2],\n",
       " [7, 1, 8],\n",
       " [7, 2, 9],\n",
       " [3, 1, 9],\n",
       " [7, 9, 0],\n",
       " [6, 8, 0],\n",
       " [8, 9, 0],\n",
       " [3, 6, 2],\n",
       " [3, 1, 9],\n",
       " [7, 6, 0],\n",
       " [3, 1, 6],\n",
       " [7, 2, 9],\n",
       " [3, 8, 0],\n",
       " [3, 1, 9],\n",
       " [7, 2, 8],\n",
       " [7, 1, 6]]"
      ]
     },
     "execution_count": 38,
     "metadata": {},
     "output_type": "execute_result"
    }
   ],
   "source": [
    "data = [[int(x[0]),int(x[1]),int(x[2])] for x in [x[:-1] for x in data]]\n",
    "data"
   ]
  },
  {
   "cell_type": "code",
   "execution_count": 32,
   "metadata": {
    "collapsed": true
   },
   "outputs": [],
   "source": [
    "prev_digit = [x for x in list(set([x[0] for x in data])) \\\n",
    "               if x not in list(set([x[1] for x in data])) \\\n",
    "               and x not in  list(set([x[2] for x in data]))][0]"
   ]
  },
  {
   "cell_type": "code",
   "execution_count": 33,
   "metadata": {},
   "outputs": [
    {
     "data": {
      "text/plain": [
       "7"
      ]
     },
     "execution_count": 33,
     "metadata": {},
     "output_type": "execute_result"
    }
   ],
   "source": [
    "prev_digit"
   ]
  },
  {
   "cell_type": "code",
   "execution_count": 34,
   "metadata": {},
   "outputs": [
    {
     "name": "stdout",
     "output_type": "stream",
     "text": [
      "[6, 6, 1, 2, 1, 1, 3, 3, 2, 2, 2, 1, 6, 1, 1, 2, 9, 6, 2, 2, 1] [2, 2, 0, 0, 0, 6, 1, 6, 9, 9, 9, 0, 9, 9, 8, 9, 0, 0, 9, 8, 6]\n",
      "3\n",
      "[1, 1, 6, 1, 1, 8, 1, 6, 1, 1, 8, 1] [9, 8, 8, 6, 8, 9, 9, 2, 9, 6, 0, 9]\n",
      "1\n",
      "[8, 2, 6, 6, 6, 6] [0, 9, 8, 0, 2, 2]\n",
      "6\n",
      "[8, 9, 2, 8, 2, 8, 8, 8] [0, 0, 0, 9, 9, 9, 0, 0]\n",
      "8\n",
      "[9] [0]\n",
      "9\n",
      "[] []\n"
     ]
    },
    {
     "ename": "IndexError",
     "evalue": "list index out of range",
     "output_type": "error",
     "traceback": [
      "\u001b[1;31m---------------------------------------------------------------------------\u001b[0m",
      "\u001b[1;31mIndexError\u001b[0m                                Traceback (most recent call last)",
      "\u001b[1;32m<ipython-input-34-b3450b7f05fe>\u001b[0m in \u001b[0;36m<module>\u001b[1;34m()\u001b[0m\n\u001b[0;32m      9\u001b[0m \u001b[1;33m\u001b[0m\u001b[0m\n\u001b[0;32m     10\u001b[0m     \u001b[0mprint\u001b[0m\u001b[1;33m(\u001b[0m\u001b[0mse2\u001b[0m\u001b[1;33m,\u001b[0m\u001b[0mtr3\u001b[0m\u001b[1;33m)\u001b[0m\u001b[1;33m\u001b[0m\u001b[0m\n\u001b[1;32m---> 11\u001b[1;33m     \u001b[0mprev_digit\u001b[0m \u001b[1;33m=\u001b[0m \u001b[0mlist\u001b[0m\u001b[1;33m(\u001b[0m\u001b[0mset\u001b[0m\u001b[1;33m(\u001b[0m\u001b[1;33m[\u001b[0m\u001b[0mx\u001b[0m \u001b[1;32mfor\u001b[0m \u001b[0mx\u001b[0m \u001b[1;32min\u001b[0m \u001b[0mse2\u001b[0m \u001b[1;32mif\u001b[0m \u001b[0mx\u001b[0m \u001b[1;32mnot\u001b[0m \u001b[1;32min\u001b[0m \u001b[0mtr3\u001b[0m\u001b[1;33m]\u001b[0m\u001b[1;33m)\u001b[0m\u001b[1;33m)\u001b[0m\u001b[1;33m[\u001b[0m\u001b[1;36m0\u001b[0m\u001b[1;33m]\u001b[0m\u001b[1;33m\u001b[0m\u001b[0m\n\u001b[0m\u001b[0;32m     12\u001b[0m     \u001b[0mprint\u001b[0m\u001b[1;33m(\u001b[0m\u001b[0mprev_digit\u001b[0m\u001b[1;33m)\u001b[0m\u001b[1;33m\u001b[0m\u001b[0m\n\u001b[0;32m     13\u001b[0m     \u001b[0mres\u001b[0m\u001b[1;33m.\u001b[0m\u001b[0mappend\u001b[0m\u001b[1;33m(\u001b[0m\u001b[0mprev_digit\u001b[0m\u001b[1;33m)\u001b[0m\u001b[1;33m\u001b[0m\u001b[0m\n",
      "\u001b[1;31mIndexError\u001b[0m: list index out of range"
     ]
    }
   ],
   "source": [
    "res = []\n",
    "res.append(prev_digit)\n",
    "for i in range(6):\n",
    "    se2 = []\n",
    "    tr3 = []\n",
    "    for lists in [x for x in data if x[0]==prev_digit]:    \n",
    "        se2.append(lists[1])\n",
    "        tr3.append(lists[2])\n",
    "    \n",
    "    print(se2,tr3)\n",
    "    prev_digit = list(set([x for x in se2 if x not in tr3]))[0]\n",
    "    print(prev_digit)\n",
    "    res.append(prev_digit)"
   ]
  },
  {
   "cell_type": "code",
   "execution_count": 35,
   "metadata": {},
   "outputs": [
    {
     "data": {
      "text/plain": [
       "[7, 3, 1, 6, 8, 9]"
      ]
     },
     "execution_count": 35,
     "metadata": {},
     "output_type": "execute_result"
    }
   ],
   "source": [
    "res"
   ]
  },
  {
   "cell_type": "code",
   "execution_count": 22,
   "metadata": {},
   "outputs": [
    {
     "data": {
      "text/plain": [
       "[0]"
      ]
     },
     "execution_count": 22,
     "metadata": {},
     "output_type": "execute_result"
    }
   ],
   "source": [
    "tr3"
   ]
  },
  {
   "cell_type": "code",
   "execution_count": null,
   "metadata": {
    "collapsed": true
   },
   "outputs": [],
   "source": []
  }
 ],
 "metadata": {
  "anaconda-cloud": {},
  "kernelspec": {
   "display_name": "Python 3",
   "language": "python",
   "name": "python3"
  },
  "language_info": {
   "codemirror_mode": {
    "name": "ipython",
    "version": 3
   },
   "file_extension": ".py",
   "mimetype": "text/x-python",
   "name": "python",
   "nbconvert_exporter": "python",
   "pygments_lexer": "ipython3",
   "version": "3.5.2"
  }
 },
 "nbformat": 4,
 "nbformat_minor": 2
}
