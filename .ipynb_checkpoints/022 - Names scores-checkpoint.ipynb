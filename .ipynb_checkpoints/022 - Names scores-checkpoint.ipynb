{
 "cells": [
  {
   "cell_type": "code",
   "execution_count": null,
   "metadata": {
    "collapsed": true
   },
   "outputs": [],
   "source": [
    "# Using names.txt (right click and 'Save Link/Target As...'), \n",
    "# a 46K text file containing over five-thousand first names, begin by sorting it into alphabetical order. \n",
    "# Then working out the alphabetical value for each name, multiply this value by its alphabetical position \n",
    "# in the list to obtain a name score.\n",
    "\n",
    "# For example, when the list is sorted into alphabetical order, COLIN, \n",
    "# which is worth 3 + 15 + 12 + 9 + 14 = 53, is the 938th name in the list. \n",
    "# So, COLIN would obtain a score of 938 × 53 = 49714.\n",
    "\n",
    "# What is the total of all the name scores in the file?"
   ]
  },
  {
   "cell_type": "code",
   "execution_count": 41,
   "metadata": {
    "collapsed": true
   },
   "outputs": [],
   "source": [
    "import codecs"
   ]
  },
  {
   "cell_type": "code",
   "execution_count": 42,
   "metadata": {},
   "outputs": [],
   "source": [
    "names = codecs.open('p022_names.txt','r')\n",
    "names = names.read() "
   ]
  },
  {
   "cell_type": "code",
   "execution_count": 43,
   "metadata": {},
   "outputs": [],
   "source": [
    "names = sorted([x[1:-1] for x in names.split(',')])"
   ]
  },
  {
   "cell_type": "code",
   "execution_count": 44,
   "metadata": {},
   "outputs": [
    {
     "data": {
      "text/plain": [
       "['AARON', 'ABBEY', 'ABBIE']"
      ]
     },
     "execution_count": 44,
     "metadata": {},
     "output_type": "execute_result"
    }
   ],
   "source": [
    "names[:3]"
   ]
  },
  {
   "cell_type": "code",
   "execution_count": 45,
   "metadata": {
    "collapsed": true
   },
   "outputs": [],
   "source": [
    "dict_alpha = {'A': 1\n",
    "             ,'B': 2\n",
    "             ,'C': 3\n",
    "             ,'D': 4\n",
    "             ,'E': 5\n",
    "             ,'F': 6\n",
    "             ,'G': 7\n",
    "             ,'H': 8\n",
    "             ,'I': 9\n",
    "             ,'J': 10\n",
    "             ,'K': 11\n",
    "             ,'L': 12\n",
    "             ,'M': 13\n",
    "             ,'N': 14\n",
    "             ,'O': 15\n",
    "             ,'P': 16\n",
    "             ,'Q': 17\n",
    "             ,'R': 18\n",
    "             ,'S': 19\n",
    "             ,'T': 20\n",
    "             ,'U': 21\n",
    "             ,'V': 22\n",
    "             ,'W': 23\n",
    "             ,'X': 24\n",
    "             ,'Y': 25\n",
    "             ,'Z': 26\n",
    "            }"
   ]
  },
  {
   "cell_type": "code",
   "execution_count": null,
   "metadata": {
    "collapsed": true
   },
   "outputs": [],
   "source": [
    "(938)*sum([dict_alpha[x] for x in 'COLIN'])"
   ]
  },
  {
   "cell_type": "code",
   "execution_count": 52,
   "metadata": {},
   "outputs": [
    {
     "data": {
      "text/plain": [
       "871198282"
      ]
     },
     "execution_count": 52,
     "metadata": {},
     "output_type": "execute_result"
    }
   ],
   "source": [
    "res = []\n",
    "for ind, name in enumerate(names):\n",
    "    res.append((ind+1)*sum([dict_alpha[x] for x in name]))\n",
    "    \n",
    "sum(res)"
   ]
  },
  {
   "cell_type": "code",
   "execution_count": 51,
   "metadata": {},
   "outputs": [
    {
     "name": "stdout",
     "output_type": "stream",
     "text": [
      "COLIN 49714\n"
     ]
    }
   ],
   "source": [
    "print(names[937],res[937])"
   ]
  },
  {
   "cell_type": "code",
   "execution_count": null,
   "metadata": {
    "collapsed": true
   },
   "outputs": [],
   "source": []
  }
 ],
 "metadata": {
  "kernelspec": {
   "display_name": "Python 3",
   "language": "python",
   "name": "python3"
  },
  "language_info": {
   "codemirror_mode": {
    "name": "ipython",
    "version": 3
   },
   "file_extension": ".py",
   "mimetype": "text/x-python",
   "name": "python",
   "nbconvert_exporter": "python",
   "pygments_lexer": "ipython3",
   "version": "3.5.2"
  }
 },
 "nbformat": 4,
 "nbformat_minor": 2
}
