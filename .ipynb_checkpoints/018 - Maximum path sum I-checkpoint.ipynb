{
 "cells": [
  {
   "cell_type": "code",
   "execution_count": 1,
   "metadata": {
    "collapsed": true
   },
   "outputs": [],
   "source": [
    "# By starting at the top of the triangle below and moving to adjacent numbers on the row below, \n",
    "# the maximum total from top to bottom is 23.\n",
    "\n",
    "# 3\n",
    "# 7 4\n",
    "# 2 4 6\n",
    "# 8 5 9 3\n",
    "\n",
    "# That is, 3 + 7 + 4 + 9 = 23.\n",
    "\n",
    "# Find the maximum total from top to bottom of the triangle below:\n",
    "\n",
    "# 75\n",
    "# 95 64\n",
    "# 17 47 82\n",
    "# 18 35 87 10\n",
    "# 20 04 82 47 65\n",
    "# 19 01 23 75 03 34\n",
    "# 88 02 77 73 07 63 67\n",
    "# 99 65 04 28 06 16 70 92\n",
    "# 41 41 26 56 83 40 80 70 33\n",
    "# 41 48 72 33 47 32 37 16 94 29\n",
    "# 53 71 44 65 25 43 91 52 97 51 14\n",
    "# 70 11 33 28 77 73 17 78 39 68 17 57\n",
    "# 91 71 52 38 17 14 91 43 58 50 27 29 48\n",
    "# 63 66 04 68 89 53 67 30 73 16 69 87 40 31\n",
    "# 04 62 98 27 23 09 70 98 73 93 38 53 60 04 23\n",
    "\n",
    "# NOTE: As there are only 16384 routes, it is possible to solve this problem by trying every route. \n",
    "# However, Problem 67, is the same challenge with a triangle containing one-hundred rows; \n",
    "# it cannot be solved by brute force, and requires a clever method! ;o)"
   ]
  },
  {
   "cell_type": "code",
   "execution_count": 54,
   "metadata": {
    "collapsed": true
   },
   "outputs": [],
   "source": [
    "import numpy as np"
   ]
  },
  {
   "cell_type": "code",
   "execution_count": 84,
   "metadata": {
    "collapsed": true
   },
   "outputs": [],
   "source": [
    "#input = open(\"018_test.txt\")\n",
    "input = open(\"018_data.txt\")\n",
    "input_str = input.readlines()\n",
    "test = [list(map(int,x)) for x in[elt.split(' ') for elt in [lst[:-1] for lst in input_str]]]"
   ]
  },
  {
   "cell_type": "code",
   "execution_count": 85,
   "metadata": {},
   "outputs": [
    {
     "data": {
      "text/plain": [
       "[[75],\n",
       " [95, 64],\n",
       " [17, 47, 82],\n",
       " [18, 35, 87, 10],\n",
       " [20, 4, 82, 47, 65],\n",
       " [19, 1, 23, 75, 3, 34],\n",
       " [88, 2, 77, 73, 7, 63, 67],\n",
       " [99, 65, 4, 28, 6, 16, 70, 92],\n",
       " [41, 41, 26, 56, 83, 40, 80, 70, 33],\n",
       " [41, 48, 72, 33, 47, 32, 37, 16, 94, 29],\n",
       " [53, 71, 44, 65, 25, 43, 91, 52, 97, 51, 14],\n",
       " [70, 11, 33, 28, 77, 73, 17, 78, 39, 68, 17, 57],\n",
       " [91, 71, 52, 38, 17, 14, 91, 43, 58, 50, 27, 29, 48],\n",
       " [63, 66, 4, 68, 89, 53, 67, 30, 73, 16, 69, 87, 40, 31],\n",
       " [4, 62, 98, 27, 23, 9, 70, 98, 73, 93, 38, 53, 60, 4, 23]]"
      ]
     },
     "execution_count": 85,
     "metadata": {},
     "output_type": "execute_result"
    }
   ],
   "source": [
    "test"
   ]
  },
  {
   "cell_type": "code",
   "execution_count": 96,
   "metadata": {},
   "outputs": [
    {
     "name": "stdout",
     "output_type": "stream",
     "text": [
      "75\n",
      "----------------------------------------------------------------------------------------------------\n",
      "curr_max_idx: [0, 1]\n",
      "[95, 64] [95, 64] 0 95\n",
      "prev_max_idx: 0\n",
      "----------------------------------------------------------------------------------------------------\n",
      "curr_max_idx: [0, 1]\n",
      "[17, 47, 82] [17, 47] 1 47\n",
      "prev_max_idx: 1\n",
      "----------------------------------------------------------------------------------------------------\n",
      "curr_max_idx: [0, 2]\n",
      "[18, 35, 87, 10] [18, 35, 87] 2 87\n",
      "prev_max_idx: 2\n",
      "----------------------------------------------------------------------------------------------------\n",
      "curr_max_idx: [1, 3]\n",
      "[20, 4, 82, 47, 65] [4, 82, 47] 1 82\n",
      "prev_max_idx: 2\n",
      "----------------------------------------------------------------------------------------------------\n",
      "curr_max_idx: [1, 3]\n",
      "[19, 1, 23, 75, 3, 34] [1, 23, 75] 2 75\n",
      "prev_max_idx: 3\n",
      "----------------------------------------------------------------------------------------------------\n",
      "curr_max_idx: [2, 4]\n",
      "[88, 2, 77, 73, 7, 63, 67] [77, 73, 7] 0 77\n",
      "prev_max_idx: 2\n",
      "----------------------------------------------------------------------------------------------------\n",
      "curr_max_idx: [1, 3]\n",
      "[99, 65, 4, 28, 6, 16, 70, 92] [65, 4, 28] 0 65\n",
      "prev_max_idx: 1\n",
      "----------------------------------------------------------------------------------------------------\n",
      "curr_max_idx: [0, 2]\n",
      "[41, 41, 26, 56, 83, 40, 80, 70, 33] [41, 41, 26] 0 41\n",
      "prev_max_idx: 0\n",
      "----------------------------------------------------------------------------------------------------\n",
      "curr_max_idx: [0, 1]\n",
      "[41, 48, 72, 33, 47, 32, 37, 16, 94, 29] [41, 48] 1 48\n",
      "prev_max_idx: 1\n",
      "----------------------------------------------------------------------------------------------------\n",
      "curr_max_idx: [0, 2]\n",
      "[53, 71, 44, 65, 25, 43, 91, 52, 97, 51, 14] [53, 71, 44] 1 71\n",
      "prev_max_idx: 1\n",
      "----------------------------------------------------------------------------------------------------\n",
      "curr_max_idx: [0, 2]\n",
      "[70, 11, 33, 28, 77, 73, 17, 78, 39, 68, 17, 57] [70, 11, 33] 0 70\n",
      "prev_max_idx: 0\n",
      "----------------------------------------------------------------------------------------------------\n",
      "curr_max_idx: [0, 1]\n",
      "[91, 71, 52, 38, 17, 14, 91, 43, 58, 50, 27, 29, 48] [91, 71] 0 91\n",
      "prev_max_idx: 0\n",
      "----------------------------------------------------------------------------------------------------\n",
      "curr_max_idx: [0, 1]\n",
      "[63, 66, 4, 68, 89, 53, 67, 30, 73, 16, 69, 87, 40, 31] [63, 66] 1 66\n",
      "prev_max_idx: 1\n",
      "----------------------------------------------------------------------------------------------------\n",
      "curr_max_idx: [0, 2]\n",
      "[4, 62, 98, 27, 23, 9, 70, 98, 73, 93, 38, 53, 60, 4, 23] [4, 62, 98] 2 98\n",
      "prev_max_idx: 2\n"
     ]
    },
    {
     "data": {
      "text/plain": [
       "1088"
      ]
     },
     "execution_count": 96,
     "metadata": {},
     "output_type": "execute_result"
    }
   ],
   "source": [
    "for row in test:\n",
    "    if len(row) == 1:\n",
    "        prev_max_idx = 0\n",
    "        s = row[prev_max_idx]\n",
    "        print(s)\n",
    "    else:\n",
    "        print('-'*100)\n",
    "        curr_max_idx = [prev_max_idx-1,prev_max_idx+1]\n",
    "        if curr_max_idx[0]<0:\n",
    "            curr_max_idx[0] = 0\n",
    "        if curr_max_idx[-1]>len(row)-1:\n",
    "            curr_max_idx[-1] = len(row)-1\n",
    "        print('curr_max_idx:', curr_max_idx)\n",
    "        \n",
    "        add = row[np.argmax(row[curr_max_idx[0]:curr_max_idx[-1]+1])+curr_max_idx[0]]\n",
    "        print(row, row[curr_max_idx[0]:curr_max_idx[-1]+1], np.argmax(row[curr_max_idx[0]:curr_max_idx[-1]+1]), add)\n",
    "        s += add\n",
    "        \n",
    "        prev_max_idx = np.argmax(row[curr_max_idx[0]:curr_max_idx[-1]+1])+curr_max_idx[0]\n",
    "        print('prev_max_idx:', prev_max_idx)\n",
    "\n",
    "        #print(s)\n",
    "\n",
    "s"
   ]
  },
  {
   "cell_type": "code",
   "execution_count": null,
   "metadata": {
    "collapsed": true
   },
   "outputs": [],
   "source": []
  }
 ],
 "metadata": {
  "kernelspec": {
   "display_name": "Python 3",
   "language": "python",
   "name": "python3"
  },
  "language_info": {
   "codemirror_mode": {
    "name": "ipython",
    "version": 3
   },
   "file_extension": ".py",
   "mimetype": "text/x-python",
   "name": "python",
   "nbconvert_exporter": "python",
   "pygments_lexer": "ipython3",
   "version": "3.5.2"
  }
 },
 "nbformat": 4,
 "nbformat_minor": 2
}
