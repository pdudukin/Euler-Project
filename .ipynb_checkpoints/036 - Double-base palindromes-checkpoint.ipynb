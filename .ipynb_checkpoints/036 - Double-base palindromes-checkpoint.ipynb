{
 "cells": [
  {
   "cell_type": "code",
   "execution_count": 1,
   "metadata": {
    "collapsed": true
   },
   "outputs": [],
   "source": [
    "# The decimal number, 585 = 10010010012 (binary), is palindromic in both bases.\n",
    "\n",
    "# Find the sum of all numbers, less than one million, which are palindromic in base 10 and base 2.\n",
    "\n",
    "# (Please note that the palindromic number, in either base, may not include leading zeros.)"
   ]
  },
  {
   "cell_type": "code",
   "execution_count": 54,
   "metadata": {
    "collapsed": true
   },
   "outputs": [],
   "source": [
    "import numpy as np"
   ]
  },
  {
   "cell_type": "code",
   "execution_count": 55,
   "metadata": {},
   "outputs": [],
   "source": [
    "def FindPalindomes(decimal):\n",
    "    str_binary = bin(decimal)[2:]\n",
    "    str_decimal = str(decimal)\n",
    "    \n",
    "    len_bin = len(str_binary)\n",
    "    len_dec = len(str_decimal)\n",
    "    \n",
    "    lst_dec = [1]*len_dec\n",
    "    lst_bin = [1]*len_bin\n",
    "    \n",
    "    pos_dec = 0\n",
    "    while pos_dec<=int(np.floor(len_dec/2)):\n",
    "        if str_decimal[pos_dec] == str_decimal[len_dec-pos_dec-1]:\n",
    "            pos_dec +=1\n",
    "            continue\n",
    "        else:\n",
    "            lst_dec[pos_dec] = 0\n",
    "            pos_dec +=1\n",
    "            break\n",
    "    \n",
    "    pos_bin = 0\n",
    "    while pos_bin<=int(np.floor(len_bin/2)):\n",
    "        if str_binary[pos_bin] == str_binary[len_bin-pos_bin-1]:\n",
    "            pos_bin +=1\n",
    "            continue\n",
    "        else:\n",
    "            lst_bin[pos_bin] = 0\n",
    "            pos_bin +=1\n",
    "            break\n",
    "    \n",
    "    #print(lst_dec, lst_bin)\n",
    "    if sum(lst_dec)<len_dec or sum(lst_bin)<len_bin:\n",
    "        return 0\n",
    "    else:\n",
    "        return decimal"
   ]
  },
  {
   "cell_type": "code",
   "execution_count": 56,
   "metadata": {},
   "outputs": [
    {
     "data": {
      "text/plain": [
       "872187"
      ]
     },
     "execution_count": 56,
     "metadata": {},
     "output_type": "execute_result"
    }
   ],
   "source": [
    "res = 0\n",
    "for digit in range(1,1000001):\n",
    "    if digit == FindPalindomes(digit):\n",
    "        res += digit\n",
    "\n",
    "res    "
   ]
  }
 ],
 "metadata": {
  "kernelspec": {
   "display_name": "Python 3",
   "language": "python",
   "name": "python3"
  },
  "language_info": {
   "codemirror_mode": {
    "name": "ipython",
    "version": 3
   },
   "file_extension": ".py",
   "mimetype": "text/x-python",
   "name": "python",
   "nbconvert_exporter": "python",
   "pygments_lexer": "ipython3",
   "version": "3.5.2"
  }
 },
 "nbformat": 4,
 "nbformat_minor": 2
}
