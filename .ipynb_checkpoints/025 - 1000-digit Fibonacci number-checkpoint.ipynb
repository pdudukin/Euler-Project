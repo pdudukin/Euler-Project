{
 "cells": [
  {
   "cell_type": "code",
   "execution_count": 2,
   "metadata": {
    "collapsed": true
   },
   "outputs": [],
   "source": [
    "# The 12th term, F12=144, is the first term to contain three digits.\n",
    "\n",
    "# What is the index of the first term in the Fibonacci sequence to contain 1000 digits?"
   ]
  },
  {
   "cell_type": "code",
   "execution_count": 14,
   "metadata": {
    "collapsed": true
   },
   "outputs": [],
   "source": [
    "def FibByIndex(index):\n",
    "    fib_pprev = 1\n",
    "    fib_prev = 1\n",
    "    \n",
    "    if index == 1:\n",
    "        return fib_pprev\n",
    "    if index == 2:\n",
    "        return fib_prev\n",
    "    else:\n",
    "        fib = 0\n",
    "        for i in range(2, index):\n",
    "            fib = fib_prev+fib_pprev\n",
    "            fib_pprev = fib_prev\n",
    "            fib_prev = fib\n",
    "    \n",
    "    return fib"
   ]
  },
  {
   "cell_type": "code",
   "execution_count": 22,
   "metadata": {},
   "outputs": [
    {
     "name": "stdout",
     "output_type": "stream",
     "text": [
      "4782\n"
     ]
    }
   ],
   "source": [
    "num = 12\n",
    "while len(str(FibByIndex(num)))<1000:\n",
    "    num +=1\n",
    "    \n",
    "print(num)"
   ]
  },
  {
   "cell_type": "code",
   "execution_count": null,
   "metadata": {
    "collapsed": true
   },
   "outputs": [],
   "source": []
  }
 ],
 "metadata": {
  "kernelspec": {
   "display_name": "Python 3",
   "language": "python",
   "name": "python3"
  },
  "language_info": {
   "codemirror_mode": {
    "name": "ipython",
    "version": 3
   },
   "file_extension": ".py",
   "mimetype": "text/x-python",
   "name": "python",
   "nbconvert_exporter": "python",
   "pygments_lexer": "ipython3",
   "version": "3.5.2"
  }
 },
 "nbformat": 4,
 "nbformat_minor": 2
}
