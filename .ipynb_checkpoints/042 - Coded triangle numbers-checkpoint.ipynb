{
 "cells": [
  {
   "cell_type": "code",
   "execution_count": 1,
   "metadata": {
    "collapsed": true
   },
   "outputs": [],
   "source": [
    "# The nth term of the sequence of triangle numbers is given by, tn = ½n(n+1); so the first ten triangle numbers are:\n",
    "\n",
    "# 1, 3, 6, 10, 15, 21, 28, 36, 45, 55, ...\n",
    "\n",
    "# By converting each letter in a word to a number corresponding to its alphabetical position and adding these values \n",
    "# we form a word value. For example, the word value for SKY is 19 + 11 + 25 = 55 = t10. \n",
    "# If the word value is a triangle number then we shall call the word a triangle word.\n",
    "\n",
    "# Using words.txt (right click and 'Save Link/Target As...'), a 16K text file containing nearly two-thousand common \n",
    "# English words, how many are triangle words?"
   ]
  },
  {
   "cell_type": "code",
   "execution_count": 110,
   "metadata": {
    "collapsed": true
   },
   "outputs": [],
   "source": [
    "import re"
   ]
  },
  {
   "cell_type": "code",
   "execution_count": 111,
   "metadata": {
    "collapsed": true
   },
   "outputs": [],
   "source": [
    "def TriangleNumbers(limit):\n",
    "    return [int(x*(x+1)/2) for x in range(1, limit+1)]"
   ]
  },
  {
   "cell_type": "code",
   "execution_count": 112,
   "metadata": {},
   "outputs": [
    {
     "data": {
      "text/plain": [
       "[1, 3, 6, 10, 15, 21, 28, 36, 45, 55]"
      ]
     },
     "execution_count": 112,
     "metadata": {},
     "output_type": "execute_result"
    }
   ],
   "source": [
    "TriangleNumbers(10)"
   ]
  },
  {
   "cell_type": "code",
   "execution_count": 113,
   "metadata": {
    "collapsed": true
   },
   "outputs": [],
   "source": [
    "input = open(\"p042_words.txt\")\n",
    "input_str = input.readlines()\n",
    "\n",
    "words = [re.sub(\"[^\\w+]\",\"\",str(input_str).split('\",\"')[ind]) for ind in range(len(str(input_str).split('\",\"')))]"
   ]
  },
  {
   "cell_type": "code",
   "execution_count": 114,
   "metadata": {
    "collapsed": true
   },
   "outputs": [],
   "source": [
    "dct_letter = {\"A\":1,\n",
    "              \"B\":2,\n",
    "              \"C\":3,\n",
    "              \"D\":4,\n",
    "              \"E\":5,\n",
    "              \"F\":6,\n",
    "              \"G\":7,\n",
    "              \"H\":8,\n",
    "              \"I\":9,\n",
    "              \"J\":10,\n",
    "              \"K\":11,\n",
    "              \"L\":12,\n",
    "              \"M\":13,\n",
    "              \"N\":14,\n",
    "              \"O\":15,\n",
    "              \"P\":16,\n",
    "              \"Q\":17,\n",
    "              \"R\":18,\n",
    "              \"S\":19,\n",
    "              \"T\":20,\n",
    "              \"U\":21,\n",
    "              \"V\":22,\n",
    "              \"W\":23,\n",
    "              \"X\":24,\n",
    "              \"Y\":25,\n",
    "              \"Z\":26}"
   ]
  },
  {
   "cell_type": "code",
   "execution_count": 115,
   "metadata": {
    "collapsed": true
   },
   "outputs": [],
   "source": [
    "words_letters_lst = [[x[i] for i in range(len(x))] for x in words]"
   ]
  },
  {
   "cell_type": "code",
   "execution_count": 116,
   "metadata": {
    "collapsed": true
   },
   "outputs": [],
   "source": [
    "for word_ind, word in enumerate(words_letters_lst):\n",
    "    for letter_ind, letter in enumerate(word):\n",
    "        words_letters_lst[word_ind][letter_ind] = dct_letter[words_letters_lst[word_ind][letter_ind]]"
   ]
  },
  {
   "cell_type": "code",
   "execution_count": 117,
   "metadata": {
    "collapsed": true
   },
   "outputs": [],
   "source": [
    "sum_lst = []\n",
    "for num_word in words_letters_lst:\n",
    "    sum_lst.append(sum(num_word))"
   ]
  },
  {
   "cell_type": "code",
   "execution_count": 118,
   "metadata": {},
   "outputs": [
    {
     "name": "stdout",
     "output_type": "stream",
     "text": [
      "192\n"
     ]
    }
   ],
   "source": [
    "print(max(sum_lst))"
   ]
  },
  {
   "cell_type": "code",
   "execution_count": 119,
   "metadata": {},
   "outputs": [
    {
     "name": "stdout",
     "output_type": "stream",
     "text": [
      "190\n",
      "210\n"
     ]
    }
   ],
   "source": [
    "num_max = 19\n",
    "print(max(TriangleNumbers(num_max)))\n",
    "print(max(TriangleNumbers(num_max+1)))\n",
    "\n",
    "target_list = TriangleNumbers(20)"
   ]
  },
  {
   "cell_type": "code",
   "execution_count": 120,
   "metadata": {},
   "outputs": [
    {
     "data": {
      "text/plain": [
       "162"
      ]
     },
     "execution_count": 120,
     "metadata": {},
     "output_type": "execute_result"
    }
   ],
   "source": [
    "count = 0\n",
    "for elt in sum_lst:\n",
    "    if elt in target_list:\n",
    "        count += 1\n",
    "count"
   ]
  }
 ],
 "metadata": {
  "anaconda-cloud": {},
  "kernelspec": {
   "display_name": "Python 3",
   "language": "python",
   "name": "python3"
  },
  "language_info": {
   "codemirror_mode": {
    "name": "ipython",
    "version": 3
   },
   "file_extension": ".py",
   "mimetype": "text/x-python",
   "name": "python",
   "nbconvert_exporter": "python",
   "pygments_lexer": "ipython3",
   "version": "3.5.2"
  }
 },
 "nbformat": 4,
 "nbformat_minor": 2
}
