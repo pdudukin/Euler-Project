{
 "cells": [
  {
   "cell_type": "code",
   "execution_count": 1,
   "metadata": {
    "collapsed": true
   },
   "outputs": [],
   "source": [
    "# The number, 197, is called a circular prime because all rotations of the digits: 197, 971, and 719, are themselves prime.\n",
    "\n",
    "# There are thirteen such primes below 100: 2, 3, 5, 7, 11, 13, 17, 31, 37, 71, 73, 79, and 97.\n",
    "\n",
    "# How many circular primes are there below one million?"
   ]
  },
  {
   "cell_type": "code",
   "execution_count": 2,
   "metadata": {
    "collapsed": true
   },
   "outputs": [],
   "source": [
    "def isPrime(n):\n",
    "    for i in range(2,int(n**0.5)+1):\n",
    "        if n%i==0:\n",
    "            return False\n",
    "\n",
    "    return True"
   ]
  },
  {
   "cell_type": "code",
   "execution_count": 9,
   "metadata": {
    "collapsed": true
   },
   "outputs": [],
   "source": [
    "def CreateList(number):\n",
    "    res = []\n",
    "    for digit_pos in range(len(str(number))):\n",
    "        res.append(str(number)[digit_pos])\n",
    "    return res"
   ]
  },
  {
   "cell_type": "code",
   "execution_count": 168,
   "metadata": {},
   "outputs": [],
   "source": [
    "def FindCircularForPrime(number):\n",
    "    vec_primes = []\n",
    "    if isPrime(number):\n",
    "            num_str = str(number)\n",
    "            len_num_str = len(num_str)\n",
    "            #print(num_str, len_num_str)\n",
    "            for pos_digit in range(len_num_str-1):\n",
    "                circular_number_lst = []\n",
    "                if pos_digit == 0:\n",
    "                    circular_number_lst.insert(0,num_str[-1])\n",
    "                    circular_number_lst = circular_number_lst + CreateList(number)[:-1]\n",
    "                    circular_number_prev_lst = circular_number_lst\n",
    "                else:\n",
    "                    circular_number_lst.insert(0,circular_number_prev_lst[-1])\n",
    "                    circular_number_lst = circular_number_lst + circular_number_prev_lst[:-1]\n",
    "                    circular_number_prev_lst = circular_number_lst\n",
    "                    #print(circular_number, circular_number_prev)\n",
    "                circular_number =  int(''.join(circular_number_lst))\n",
    "                \n",
    "                if isPrime(circular_number):\n",
    "                    vec_primes.append(circular_number)\n",
    "    \n",
    "            vec_primes.insert(0,number)\n",
    "    \n",
    "    return vec_primes"
   ]
  },
  {
   "cell_type": "code",
   "execution_count": 169,
   "metadata": {},
   "outputs": [
    {
     "data": {
      "text/plain": [
       "[]"
      ]
     },
     "execution_count": 169,
     "metadata": {},
     "output_type": "execute_result"
    }
   ],
   "source": [
    "FindCircularForPrime(6)"
   ]
  },
  {
   "cell_type": "code",
   "execution_count": 174,
   "metadata": {},
   "outputs": [],
   "source": [
    "def CountCircularPrimes(N):\n",
    "    count = 0 \n",
    "    for number in range(2, N+1):\n",
    "        vec_primes = FindCircularForPrime(number)\n",
    "        len_num_str = len(str(number))                       \n",
    "        if len(vec_primes) == len_num_str:\n",
    "            #print(vec_primes)\n",
    "            count += 1\n",
    "            \n",
    "    return count"
   ]
  },
  {
   "cell_type": "code",
   "execution_count": 175,
   "metadata": {},
   "outputs": [
    {
     "name": "stdout",
     "output_type": "stream",
     "text": [
      "Wall time: 33.6 s\n"
     ]
    },
    {
     "data": {
      "text/plain": [
       "55"
      ]
     },
     "execution_count": 175,
     "metadata": {},
     "output_type": "execute_result"
    }
   ],
   "source": [
    "%time CountCircularPrimes(1000000)"
   ]
  }
 ],
 "metadata": {
  "kernelspec": {
   "display_name": "Python [Root]",
   "language": "python",
   "name": "Python [Root]"
  },
  "language_info": {
   "codemirror_mode": {
    "name": "ipython",
    "version": 3
   },
   "file_extension": ".py",
   "mimetype": "text/x-python",
   "name": "python",
   "nbconvert_exporter": "python",
   "pygments_lexer": "ipython3",
   "version": "3.5.2"
  }
 },
 "nbformat": 4,
 "nbformat_minor": 2
}
