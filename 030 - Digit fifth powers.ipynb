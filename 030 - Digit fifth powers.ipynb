{
 "cells": [
  {
   "cell_type": "code",
   "execution_count": 1,
   "metadata": {
    "collapsed": true
   },
   "outputs": [],
   "source": [
    "# Surprisingly there are only three numbers that can be written as the sum of fourth powers of their digits:\n",
    "\n",
    "# 1634 = 1^4 + 6^4 + 3^4 + 4^4\n",
    "# 8208 = 8^4 + 2^4 + 0^4 + 8^4\n",
    "# 9474 = 9^4 + 4^4 + 7^4 + 4^4\n",
    "# As 1 = 1^4 is not a sum it is not included.\n",
    "\n",
    "# The sum of these numbers is 1634 + 8208 + 9474 = 19316.\n",
    "\n",
    "# Find the sum of all the numbers that can be written as the sum of fifth powers of their digits."
   ]
  },
  {
   "cell_type": "code",
   "execution_count": 9,
   "metadata": {
    "collapsed": true
   },
   "outputs": [],
   "source": [
    "import tqdm\n",
    "from tqdm import tqdm_notebook"
   ]
  },
  {
   "cell_type": "code",
   "execution_count": 4,
   "metadata": {
    "collapsed": true
   },
   "outputs": [],
   "source": [
    "def FindPowerDigit(number, power):\n",
    "    summ = 0\n",
    "    for digit in range(len(str(number))):\n",
    "        summ += int(str(number)[digit])**power\n",
    "    \n",
    "    if number == summ:\n",
    "        return number\n",
    "    else:\n",
    "        return 0"
   ]
  },
  {
   "cell_type": "code",
   "execution_count": 13,
   "metadata": {},
   "outputs": [
    {
     "data": {
      "application/vnd.jupyter.widget-view+json": {
       "model_id": "0b4c6a2f37ee421a9bf35ccda8155ce5"
      }
     },
     "metadata": {},
     "output_type": "display_data"
    },
    {
     "name": "stdout",
     "output_type": "stream",
     "text": [
      "\n",
      "[4150, 4151, 54748, 92727, 93084, 194979]\n",
      "443839\n"
     ]
    }
   ],
   "source": [
    "n_max = 99999999\n",
    "res = []\n",
    "\n",
    "for number in tqdm.tqdm_notebook(range(2,n_max), total=n_max-2, desc=\"Searching\"):\n",
    "    if FindPowerDigit(number,5) == number:\n",
    "        res.append(number)\n",
    "        \n",
    "print(res)\n",
    "print(sum(res))"
   ]
  },
  {
   "cell_type": "code",
   "execution_count": null,
   "metadata": {
    "collapsed": true
   },
   "outputs": [],
   "source": []
  }
 ],
 "metadata": {
  "kernelspec": {
   "display_name": "Python 3",
   "language": "python",
   "name": "python3"
  },
  "language_info": {
   "codemirror_mode": {
    "name": "ipython",
    "version": 3
   },
   "file_extension": ".py",
   "mimetype": "text/x-python",
   "name": "python",
   "nbconvert_exporter": "python",
   "pygments_lexer": "ipython3",
   "version": "3.5.2"
  }
 },
 "nbformat": 4,
 "nbformat_minor": 2
}
