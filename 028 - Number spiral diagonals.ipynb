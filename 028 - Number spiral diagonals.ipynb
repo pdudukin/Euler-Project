{
 "cells": [
  {
   "cell_type": "code",
   "execution_count": 1,
   "metadata": {
    "collapsed": true
   },
   "outputs": [],
   "source": [
    "# Starting with the number 1 and moving to the right in a clockwise direction a 5 by 5 spiral is formed as follows:\n",
    "\n",
    "# 21 22 23 24 25\n",
    "# 20  7  8  9 10\n",
    "# 19  6  1  2 11\n",
    "# 18  5  4  3 12\n",
    "# 17 16 15 14 13\n",
    "\n",
    "# It can be verified that the sum of the numbers on the diagonals is 101.\n",
    "\n",
    "# What is the sum of the numbers on the diagonals in a 1001 by 1001 spiral formed in the same way?"
   ]
  },
  {
   "cell_type": "code",
   "execution_count": 3,
   "metadata": {},
   "outputs": [],
   "source": [
    "# right-down:\n",
    "# 0 step: 0\n",
    "# 1 step: +2\n",
    "# 2 step: +10\n",
    "# 3 step: +18\n",
    "# 4 step: +26\n",
    "# ...\n",
    "\n",
    "# right-up:\n",
    "# 0 step: 0\n",
    "# 1 step: +8\n",
    "# 2 step: +16\n",
    "# 3 step: +24\n",
    "# ...\n",
    "\n",
    "# left-down:\n",
    "# 0 step: 0\n",
    "# 1 step: +4\n",
    "# 2 step: +12\n",
    "# 3 step: +20\n",
    "# ...\n",
    "\n",
    "# left-up:\n",
    "# 0 step: 0\n",
    "# 1 step: +6\n",
    "# 2 step: +14\n",
    "# 3 step: +22\n",
    "# ..."
   ]
  },
  {
   "cell_type": "code",
   "execution_count": 10,
   "metadata": {},
   "outputs": [
    {
     "data": {
      "text/plain": [
       "669171001"
      ]
     },
     "execution_count": 10,
     "metadata": {},
     "output_type": "execute_result"
    }
   ],
   "source": [
    "rd = [1,3]\n",
    "ru = [1,9]\n",
    "ld = [1,5]\n",
    "lu = [1,7]\n",
    "\n",
    "n = 1001\n",
    "N = int((n-1)/2)\n",
    "\n",
    "\n",
    "for i in range(2, N+1):\n",
    "    rd.append(rd[i-1]+(rd[i-1]-rd[i-2]+8))\n",
    "    ru.append(ru[i-1]+(ru[i-1]-ru[i-2]+8))\n",
    "    ld.append(ld[i-1]+(ld[i-1]-ld[i-2]+8))\n",
    "    lu.append(lu[i-1]+(lu[i-1]-lu[i-2]+8))\n",
    "\n",
    "res = sum(rd)+sum(ru)+sum(ld)+sum(lu) - 3\n",
    "res"
   ]
  }
 ],
 "metadata": {
  "anaconda-cloud": {},
  "kernelspec": {
   "display_name": "Python [Root]",
   "language": "python",
   "name": "Python [Root]"
  },
  "language_info": {
   "codemirror_mode": {
    "name": "ipython",
    "version": 3
   },
   "file_extension": ".py",
   "mimetype": "text/x-python",
   "name": "python",
   "nbconvert_exporter": "python",
   "pygments_lexer": "ipython3",
   "version": "3.5.2"
  }
 },
 "nbformat": 4,
 "nbformat_minor": 2
}
