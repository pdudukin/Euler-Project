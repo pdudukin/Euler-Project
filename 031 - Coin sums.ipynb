{
 "cells": [
  {
   "cell_type": "code",
   "execution_count": 1,
   "metadata": {
    "collapsed": true
   },
   "outputs": [],
   "source": [
    "# In England the currency is made up of pound, £, and pence, p, and there are eight coins in general circulation:\n",
    "\n",
    "# 1p, 2p, 5p, 10p, 20p, 50p, £1 (100p) and £2 (200p).\n",
    "# It is possible to make £2 in the following way:\n",
    "\n",
    "# 1×£1 + 1×50p + 2×20p + 1×5p + 1×2p + 3×1p\n",
    "# How many different ways can £2 be made using any number of coins?"
   ]
  },
  {
   "cell_type": "code",
   "execution_count": 2,
   "metadata": {
    "collapsed": true
   },
   "outputs": [],
   "source": [
    "import numpy as np"
   ]
  },
  {
   "cell_type": "code",
   "execution_count": 3,
   "metadata": {
    "collapsed": true
   },
   "outputs": [],
   "source": [
    "nominals = [1, 2, 5, 10, 20, 50, 100, 200]"
   ]
  },
  {
   "cell_type": "code",
   "execution_count": 4,
   "metadata": {
    "collapsed": true
   },
   "outputs": [],
   "source": [
    "max_0 = 200\n",
    "max_1 = 100\n",
    "max_2 = 40\n",
    "max_3 = 20\n",
    "max_4 = 10\n",
    "max_5 = 4\n",
    "max_6 = 2\n",
    "max_7 = 1"
   ]
  },
  {
   "cell_type": "code",
   "execution_count": 22,
   "metadata": {},
   "outputs": [
    {
     "data": {
      "text/plain": [
       "73682"
      ]
     },
     "execution_count": 22,
     "metadata": {},
     "output_type": "execute_result"
    }
   ],
   "source": [
    "num = 1\n",
    "for i0 in range(0, max_0+1):\n",
    "    for i1 in range(0, max_1+1):\n",
    "        if np.dot([i0,i1],nominals[:2])>200:\n",
    "            break\n",
    "        else:\n",
    "            for i2 in range(0, max_2+1):\n",
    "                if np.dot([i0,i1,i2],nominals[:3])>200:\n",
    "                    break\n",
    "                else:\n",
    "                    for i3 in range(0, max_3+1):\n",
    "                        if np.dot([i0,i1,i2,i3],nominals[:4])>200:\n",
    "                            break\n",
    "                        else:\n",
    "                            for i4 in range(0, max_4+1):\n",
    "                                if np.dot([i0,i1,i2,i3,i4],nominals[:5])>200:\n",
    "                                    break\n",
    "                                else:\n",
    "                                    for i5 in range(0, max_5+1):\n",
    "                                        if np.dot([i0,i1,i2,i3,i4,i5],nominals[:6])>200:\n",
    "                                            break\n",
    "                                        else:\n",
    "                                            for i6 in range(0, max_6+1):\n",
    "                                                if np.dot([i0,i1,i2,i3,i4,i5,i6],nominals[:7])>200:\n",
    "                                                    break\n",
    "                                                else:\n",
    "                                                    if np.dot([i0, i1, i2, i3, i4, i5, i6, 0], nominals) == 200:\n",
    "                                                        num +=1\n",
    "                                                        #print([i0, i1, i2, i3, i4, i5, i6, 0], num)\n",
    "\n",
    "num"
   ]
  }
 ],
 "metadata": {
  "anaconda-cloud": {},
  "kernelspec": {
   "display_name": "Python [Root]",
   "language": "python",
   "name": "Python [Root]"
  },
  "language_info": {
   "codemirror_mode": {
    "name": "ipython",
    "version": 3
   },
   "file_extension": ".py",
   "mimetype": "text/x-python",
   "name": "python",
   "nbconvert_exporter": "python",
   "pygments_lexer": "ipython3",
   "version": "3.5.2"
  }
 },
 "nbformat": 4,
 "nbformat_minor": 2
}
