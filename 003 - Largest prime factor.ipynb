{
 "cells": [
  {
   "cell_type": "code",
   "execution_count": 1,
   "metadata": {
    "collapsed": true
   },
   "outputs": [],
   "source": [
    "#The prime factors of 13195 are 5, 7, 13 and 29.\n",
    "\n",
    "#What is the largest prime factor of the number 600851475143 ?"
   ]
  },
  {
   "cell_type": "code",
   "execution_count": 3,
   "metadata": {
    "collapsed": true
   },
   "outputs": [],
   "source": [
    "import numpy as np"
   ]
  },
  {
   "cell_type": "code",
   "execution_count": 4,
   "metadata": {
    "collapsed": true
   },
   "outputs": [],
   "source": [
    "def FindPrimeNumbers(n):\n",
    "    a = list(range(int(np.floor(np.sqrt(n)))+1))\n",
    "    a[1] = 0\n",
    "    prime_div_list = []\n",
    "\n",
    "    i = 2\n",
    "    while i <= len(a)-1:\n",
    "        #print(a, lst)\n",
    "        if a[i] != 0:\n",
    "            prime_div_list.append(a[i])\n",
    "            for j in range(i, int(np.floor(np.sqrt(n)))+1, i):\n",
    "                a[j] = 0\n",
    "        i += 1\n",
    "    \n",
    "    return prime_div_list"
   ]
  },
  {
   "cell_type": "code",
   "execution_count": 5,
   "metadata": {},
   "outputs": [],
   "source": [
    "n = 600851475143\n",
    "prime_div_list = FindPrimeNumbers(n)"
   ]
  },
  {
   "cell_type": "code",
   "execution_count": 6,
   "metadata": {
    "collapsed": true
   },
   "outputs": [],
   "source": [
    "div = prime_div_list[0]\n",
    "i = 0\n",
    "div_list = []\n",
    "\n",
    "while n // div > 0:\n",
    "    if n % div == 0:\n",
    "        i = 0\n",
    "        n//= div\n",
    "        div_list.append(div)\n",
    "        i += 1\n",
    "        div = prime_div_list[i]\n",
    "    else:\n",
    "        i += 1\n",
    "        div = prime_div_list[i]\n",
    "        "
   ]
  },
  {
   "cell_type": "code",
   "execution_count": 7,
   "metadata": {},
   "outputs": [
    {
     "data": {
      "text/plain": [
       "6857"
      ]
     },
     "execution_count": 7,
     "metadata": {},
     "output_type": "execute_result"
    }
   ],
   "source": [
    "max(div_list)"
   ]
  },
  {
   "cell_type": "code",
   "execution_count": null,
   "metadata": {
    "collapsed": true
   },
   "outputs": [],
   "source": []
  }
 ],
 "metadata": {
  "anaconda-cloud": {},
  "kernelspec": {
   "display_name": "Python 3",
   "language": "python",
   "name": "python3"
  },
  "language_info": {
   "codemirror_mode": {
    "name": "ipython",
    "version": 3
   },
   "file_extension": ".py",
   "mimetype": "text/x-python",
   "name": "python",
   "nbconvert_exporter": "python",
   "pygments_lexer": "ipython3",
   "version": "3.5.2"
  }
 },
 "nbformat": 4,
 "nbformat_minor": 2
}
