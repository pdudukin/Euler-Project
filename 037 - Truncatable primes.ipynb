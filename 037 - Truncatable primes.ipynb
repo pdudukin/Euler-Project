{
 "cells": [
  {
   "cell_type": "code",
   "execution_count": 1,
   "metadata": {
    "collapsed": true
   },
   "outputs": [],
   "source": [
    "# The number 3797 has an interesting property. Being prime itself, it is possible to continuously remove digits \n",
    "# from left to right, and remain prime at each stage: 3797, 797, 97, and 7. Similarly we can work from right to left: \n",
    "# 3797, 379, 37, and 3.\n",
    "\n",
    "# Find the sum of the only eleven primes that are both truncatable from left to right and right to left.\n",
    "\n",
    "# NOTE: 2, 3, 5, and 7 are not considered to be truncatable primes."
   ]
  },
  {
   "cell_type": "code",
   "execution_count": 2,
   "metadata": {
    "collapsed": true
   },
   "outputs": [],
   "source": [
    "def isPrime(n):\n",
    "    for i in range(2,int(n**0.5)+1):\n",
    "        if n%i==0:\n",
    "            return False\n",
    "\n",
    "    return True"
   ]
  },
  {
   "cell_type": "code",
   "execution_count": 16,
   "metadata": {
    "collapsed": true
   },
   "outputs": [],
   "source": [
    "def FindLRTruncs(number):\n",
    "    vec = []\n",
    "    if isPrime(number):\n",
    "        vec.append(number)\n",
    "        len_n = len(str(number))\n",
    "        for trunc_ind in range(1,len_n):\n",
    "            trunc = str(number)[trunc_ind:]\n",
    "            #if isPrime(int(trunc)):\n",
    "            vec.append(int(trunc))\n",
    "\n",
    "        for trunc_ind in range(1,len_n):\n",
    "            trunc = str(number)[:trunc_ind]\n",
    "            #if isPrime(int(trunc)):\n",
    "            vec.append(int(trunc))\n",
    "    \n",
    "    return vec"
   ]
  },
  {
   "cell_type": "code",
   "execution_count": 17,
   "metadata": {},
   "outputs": [
    {
     "data": {
      "text/plain": [
       "[3797, 797, 97, 7, 3, 37, 379]"
      ]
     },
     "execution_count": 17,
     "metadata": {},
     "output_type": "execute_result"
    }
   ],
   "source": [
    "FindLRTruncs(3797)"
   ]
  },
  {
   "cell_type": "code",
   "execution_count": 22,
   "metadata": {},
   "outputs": [
    {
     "name": "stdout",
     "output_type": "stream",
     "text": [
      "23 3 [23, 3, 2]\n",
      "37 3 [37, 7, 3]\n",
      "53 3 [53, 3, 5]\n",
      "73 3 [73, 3, 7]\n",
      "313 5 [313, 13, 3, 3, 31]\n",
      "317 5 [317, 17, 7, 3, 31]\n",
      "373 5 [373, 73, 3, 3, 37]\n",
      "797 5 [797, 97, 7, 7, 79]\n",
      "3137 7 [3137, 137, 37, 7, 3, 31, 313]\n",
      "3797 7 [3797, 797, 97, 7, 3, 37, 379]\n",
      "739397 11 [739397, 39397, 9397, 397, 97, 7, 7, 73, 739, 7393, 73939]\n"
     ]
    }
   ],
   "source": [
    "count = 0\n",
    "res = []\n",
    "\n",
    "for num in range(2, 1000000):\n",
    "    trunc_list = FindLRTruncs(num)    \n",
    "    sm = 0\n",
    "    for elt in trunc_list:\n",
    "        if elt>1 and isPrime(elt):\n",
    "            sm += 1\n",
    "            \n",
    "    if sm>1 and sm == len(trunc_list):\n",
    "        print(num, sm, trunc_list)\n",
    "        res.append(trunc_list[0])\n",
    "        count += 1\n",
    "        \n",
    "    if count == 11:\n",
    "        break"
   ]
  },
  {
   "cell_type": "code",
   "execution_count": 24,
   "metadata": {},
   "outputs": [
    {
     "data": {
      "text/plain": [
       "748317"
      ]
     },
     "execution_count": 24,
     "metadata": {},
     "output_type": "execute_result"
    }
   ],
   "source": [
    "sum(res)"
   ]
  }
 ],
 "metadata": {
  "kernelspec": {
   "display_name": "Python 3",
   "language": "python",
   "name": "python3"
  },
  "language_info": {
   "codemirror_mode": {
    "name": "ipython",
    "version": 3
   },
   "file_extension": ".py",
   "mimetype": "text/x-python",
   "name": "python",
   "nbconvert_exporter": "python",
   "pygments_lexer": "ipython3",
   "version": "3.5.2"
  }
 },
 "nbformat": 4,
 "nbformat_minor": 2
}
